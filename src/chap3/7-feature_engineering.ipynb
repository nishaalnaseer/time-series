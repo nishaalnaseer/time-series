{
 "cells": [
  {
   "cell_type": "code",
   "execution_count": 1,
   "id": "initial_id",
   "metadata": {
    "collapsed": true,
    "ExecuteTime": {
     "end_time": "2023-11-10T16:22:16.077050700Z",
     "start_time": "2023-11-10T16:22:13.794471100Z"
    }
   },
   "outputs": [
    {
     "data": {
      "text/plain": "                        load  temp\n2012-01-01 00:00:00 2,698.00 32.00\n2012-01-01 01:00:00 2,558.00 32.67\n2012-01-01 02:00:00 2,444.00 30.00\n2012-01-01 03:00:00 2,402.00 31.00\n2012-01-01 04:00:00 2,403.00 32.00\n2012-01-01 05:00:00 2,453.00 31.33\n2012-01-01 06:00:00 2,560.00 30.00\n2012-01-01 07:00:00 2,719.00 29.00\n2012-01-01 08:00:00 2,916.00 29.00\n2012-01-01 09:00:00 3,105.00 33.33",
      "text/html": "<div>\n<style scoped>\n    .dataframe tbody tr th:only-of-type {\n        vertical-align: middle;\n    }\n\n    .dataframe tbody tr th {\n        vertical-align: top;\n    }\n\n    .dataframe thead th {\n        text-align: right;\n    }\n</style>\n<table border=\"1\" class=\"dataframe\">\n  <thead>\n    <tr style=\"text-align: right;\">\n      <th></th>\n      <th>load</th>\n      <th>temp</th>\n    </tr>\n  </thead>\n  <tbody>\n    <tr>\n      <th>2012-01-01 00:00:00</th>\n      <td>2,698.00</td>\n      <td>32.00</td>\n    </tr>\n    <tr>\n      <th>2012-01-01 01:00:00</th>\n      <td>2,558.00</td>\n      <td>32.67</td>\n    </tr>\n    <tr>\n      <th>2012-01-01 02:00:00</th>\n      <td>2,444.00</td>\n      <td>30.00</td>\n    </tr>\n    <tr>\n      <th>2012-01-01 03:00:00</th>\n      <td>2,402.00</td>\n      <td>31.00</td>\n    </tr>\n    <tr>\n      <th>2012-01-01 04:00:00</th>\n      <td>2,403.00</td>\n      <td>32.00</td>\n    </tr>\n    <tr>\n      <th>2012-01-01 05:00:00</th>\n      <td>2,453.00</td>\n      <td>31.33</td>\n    </tr>\n    <tr>\n      <th>2012-01-01 06:00:00</th>\n      <td>2,560.00</td>\n      <td>30.00</td>\n    </tr>\n    <tr>\n      <th>2012-01-01 07:00:00</th>\n      <td>2,719.00</td>\n      <td>29.00</td>\n    </tr>\n    <tr>\n      <th>2012-01-01 08:00:00</th>\n      <td>2,916.00</td>\n      <td>29.00</td>\n    </tr>\n    <tr>\n      <th>2012-01-01 09:00:00</th>\n      <td>3,105.00</td>\n      <td>33.33</td>\n    </tr>\n  </tbody>\n</table>\n</div>"
     },
     "execution_count": 1,
     "metadata": {},
     "output_type": "execute_result"
    }
   ],
   "source": [
    "import os\n",
    "import pandas as pd\n",
    "import numpy as np\n",
    "from common.utils import load_data, extract_data\n",
    "# adjust the format of the data set\n",
    "# os.chdir(\"../../\")\n",
    "pd.options.display.float_format = '{:,.2f}'.format\n",
    "np.set_printoptions(precision=2)\n",
    "data_dir = \"data\"\n",
    "# if not done already, extract zipped data and save as csv\n",
    "ts_data = load_data(data_dir)\n",
    "\n",
    "ts_data.head(10)"
   ]
  },
  {
   "cell_type": "code",
   "execution_count": 2,
   "outputs": [
    {
     "name": "stdout",
     "output_type": "stream",
     "text": [
      "                        load  temp  hour  month  dayofweek\n",
      "2012-01-01 00:00:00 2,698.00 32.00     0      1          1\n",
      "2012-01-01 01:00:00 2,558.00 32.67     1      1          1\n",
      "2012-01-01 02:00:00 2,444.00 30.00     2      1          1\n",
      "2012-01-01 03:00:00 2,402.00 31.00     3      1          1\n",
      "2012-01-01 04:00:00 2,403.00 32.00     4      1          1\n"
     ]
    }
   ],
   "source": [
    "ts_data['hour'] = [ts_data.index[i].hour for i in range(len(ts_data))]\n",
    "ts_data['month'] = [ts_data.index[i].month for i in range(len(ts_data))]\n",
    "ts_data['dayofweek'] = [ts_data.index[i].day for i in range(len(ts_data))]\n",
    "print(ts_data.head(5))"
   ],
   "metadata": {
    "collapsed": false,
    "ExecuteTime": {
     "end_time": "2023-11-10T19:43:37.841682800Z",
     "start_time": "2023-11-10T19:43:37.198182900Z"
    }
   },
   "id": "4414730159efe39a"
  },
  {
   "cell_type": "code",
   "execution_count": 3,
   "outputs": [
    {
     "data": {
      "text/plain": "                        load  temp  hour  month  dayofweek\n2012-01-05 00:00:00 2,698.00 32.00     0      1          1\n2012-01-05 01:00:00 2,558.00 32.67     1      1          1\n2012-01-05 02:00:00 2,444.00 30.00     2      1          1\n2012-01-05 03:00:00 2,402.00 31.00     3      1          1\n2012-01-05 04:00:00 2,403.00 32.00     4      1          1",
      "text/html": "<div>\n<style scoped>\n    .dataframe tbody tr th:only-of-type {\n        vertical-align: middle;\n    }\n\n    .dataframe tbody tr th {\n        vertical-align: top;\n    }\n\n    .dataframe thead th {\n        text-align: right;\n    }\n</style>\n<table border=\"1\" class=\"dataframe\">\n  <thead>\n    <tr style=\"text-align: right;\">\n      <th></th>\n      <th>load</th>\n      <th>temp</th>\n      <th>hour</th>\n      <th>month</th>\n      <th>dayofweek</th>\n    </tr>\n  </thead>\n  <tbody>\n    <tr>\n      <th>2012-01-05 00:00:00</th>\n      <td>2,698.00</td>\n      <td>32.00</td>\n      <td>0</td>\n      <td>1</td>\n      <td>1</td>\n    </tr>\n    <tr>\n      <th>2012-01-05 01:00:00</th>\n      <td>2,558.00</td>\n      <td>32.67</td>\n      <td>1</td>\n      <td>1</td>\n      <td>1</td>\n    </tr>\n    <tr>\n      <th>2012-01-05 02:00:00</th>\n      <td>2,444.00</td>\n      <td>30.00</td>\n      <td>2</td>\n      <td>1</td>\n      <td>1</td>\n    </tr>\n    <tr>\n      <th>2012-01-05 03:00:00</th>\n      <td>2,402.00</td>\n      <td>31.00</td>\n      <td>3</td>\n      <td>1</td>\n      <td>1</td>\n    </tr>\n    <tr>\n      <th>2012-01-05 04:00:00</th>\n      <td>2,403.00</td>\n      <td>32.00</td>\n      <td>4</td>\n      <td>1</td>\n      <td>1</td>\n    </tr>\n  </tbody>\n</table>\n</div>"
     },
     "execution_count": 3,
     "metadata": {},
     "output_type": "execute_result"
    }
   ],
   "source": [
    "# an example of how to use offset aliases on the ts_data set:\n",
    "ts_data_shift = ts_data.shift(4, freq=pd.offsets.BDay())\n",
    "ts_data_shift.head(5)"
   ],
   "metadata": {
    "collapsed": false,
    "ExecuteTime": {
     "end_time": "2023-11-11T16:47:33.196710900Z",
     "start_time": "2023-11-11T16:47:33.083646800Z"
    }
   },
   "id": "17016eff5e54818b"
  },
  {
   "cell_type": "code",
   "execution_count": 6,
   "outputs": [
    {
     "ename": "AttributeError",
     "evalue": "'DatetimeIndex' object has no attribute 'tshift'",
     "output_type": "error",
     "traceback": [
      "\u001B[1;31m---------------------------------------------------------------------------\u001B[0m",
      "\u001B[1;31mAttributeError\u001B[0m                            Traceback (most recent call last)",
      "Cell \u001B[1;32mIn[6], line 1\u001B[0m\n\u001B[1;32m----> 1\u001B[0m ts_data_shift_2 \u001B[38;5;241m=\u001B[39m \u001B[43mts_data\u001B[49m\u001B[38;5;241;43m.\u001B[39;49m\u001B[43mindex\u001B[49m\u001B[38;5;241;43m.\u001B[39;49m\u001B[43mtshift\u001B[49m(\u001B[38;5;241m6\u001B[39m, freq\u001B[38;5;241m=\u001B[39m\u001B[38;5;124m'\u001B[39m\u001B[38;5;124mD\u001B[39m\u001B[38;5;124m'\u001B[39m)\n\u001B[0;32m      2\u001B[0m ts_data_shift_2\u001B[38;5;241m.\u001B[39mhead(\u001B[38;5;241m5\u001B[39m)\n",
      "\u001B[1;31mAttributeError\u001B[0m: 'DatetimeIndex' object has no attribute 'tshift'"
     ]
    }
   ],
   "source": [
    "# ts_data_shift_2 = ts_data.index.tshift(6, freq='D')\n",
    "# ts_data_shift_2.head(5)\n",
    "# doesnt work"
   ],
   "metadata": {
    "collapsed": false,
    "ExecuteTime": {
     "end_time": "2023-11-11T18:02:29.331924400Z",
     "start_time": "2023-11-11T18:02:29.305804800Z"
    }
   },
   "id": "fbd353cd23c72a4d"
  },
  {
   "cell_type": "code",
   "execution_count": 9,
   "outputs": [],
   "source": [
    "def generated_lagged_features(ts_data, var, max_lag):\n",
    "    for t in range(1, max_lag+1):\n",
    "        ts_data[var+'_lag'+str(t)] = ts_data[var].shift(t, freq='1H')"
   ],
   "metadata": {
    "collapsed": false,
    "ExecuteTime": {
     "end_time": "2023-11-11T18:31:01.716870900Z",
     "start_time": "2023-11-11T18:31:01.699834300Z"
    }
   },
   "id": "b31052fd6b9b8513"
  },
  {
   "cell_type": "code",
   "execution_count": 11,
   "outputs": [
    {
     "data": {
      "text/plain": "                        load  temp  hour  month  dayofweek  load_lag1  \\\n2012-01-01 00:00:00 2,698.00 32.00     0      1          1        NaN   \n2012-01-01 01:00:00 2,558.00 32.67     1      1          1   2,698.00   \n2012-01-01 02:00:00 2,444.00 30.00     2      1          1   2,558.00   \n2012-01-01 03:00:00 2,402.00 31.00     3      1          1   2,444.00   \n2012-01-01 04:00:00 2,403.00 32.00     4      1          1   2,402.00   \n...                      ...   ...   ...    ...        ...        ...   \n2014-12-31 19:00:00 4,012.00 18.00    19     12         31   4,199.00   \n2014-12-31 20:00:00 3,856.00 16.67    20     12         31   4,012.00   \n2014-12-31 21:00:00 3,671.00 17.00    21     12         31   3,856.00   \n2014-12-31 22:00:00 3,499.00 15.33    22     12         31   3,671.00   \n2014-12-31 23:00:00 3,345.00 15.33    23     12         31   3,499.00   \n\n                     load_lag2  load_lag3  load_lag4  load_lag5  ...  \\\n2012-01-01 00:00:00        NaN        NaN        NaN        NaN  ...   \n2012-01-01 01:00:00        NaN        NaN        NaN        NaN  ...   \n2012-01-01 02:00:00   2,698.00        NaN        NaN        NaN  ...   \n2012-01-01 03:00:00   2,558.00   2,698.00        NaN        NaN  ...   \n2012-01-01 04:00:00   2,444.00   2,558.00   2,698.00        NaN  ...   \n...                        ...        ...        ...        ...  ...   \n2014-12-31 19:00:00   4,319.00   4,141.00   3,912.00   3,893.00  ...   \n2014-12-31 20:00:00   4,199.00   4,319.00   4,141.00   3,912.00  ...   \n2014-12-31 21:00:00   4,012.00   4,199.00   4,319.00   4,141.00  ...   \n2014-12-31 22:00:00   3,856.00   4,012.00   4,199.00   4,319.00  ...   \n2014-12-31 23:00:00   3,671.00   3,856.00   4,012.00   4,199.00  ...   \n\n                     load_lag7  load_lag8  temp_lag1  temp_lag2  temp_lag3  \\\n2012-01-01 00:00:00        NaN        NaN        NaN        NaN        NaN   \n2012-01-01 01:00:00        NaN        NaN      32.00        NaN        NaN   \n2012-01-01 02:00:00        NaN        NaN      32.67      32.00        NaN   \n2012-01-01 03:00:00        NaN        NaN      30.00      32.67      32.00   \n2012-01-01 04:00:00        NaN        NaN      31.00      30.00      32.67   \n...                        ...        ...        ...        ...        ...   \n2014-12-31 19:00:00   3,982.00   4,030.00      20.00      22.33      23.67   \n2014-12-31 20:00:00   3,933.00   3,982.00      18.00      20.00      22.33   \n2014-12-31 21:00:00   3,893.00   3,933.00      16.67      18.00      20.00   \n2014-12-31 22:00:00   3,912.00   3,893.00      17.00      16.67      18.00   \n2014-12-31 23:00:00   4,141.00   3,912.00      15.33      17.00      16.67   \n\n                     temp_lag4  temp_lag5  temp_lag6  temp_lag7  temp_lag8  \n2012-01-01 00:00:00        NaN        NaN        NaN        NaN        NaN  \n2012-01-01 01:00:00        NaN        NaN        NaN        NaN        NaN  \n2012-01-01 02:00:00        NaN        NaN        NaN        NaN        NaN  \n2012-01-01 03:00:00        NaN        NaN        NaN        NaN        NaN  \n2012-01-01 04:00:00      32.00        NaN        NaN        NaN        NaN  \n...                        ...        ...        ...        ...        ...  \n2014-12-31 19:00:00      25.00      25.33      24.33      24.33      22.67  \n2014-12-31 20:00:00      23.67      25.00      25.33      24.33      24.33  \n2014-12-31 21:00:00      22.33      23.67      25.00      25.33      24.33  \n2014-12-31 22:00:00      20.00      22.33      23.67      25.00      25.33  \n2014-12-31 23:00:00      18.00      20.00      22.33      23.67      25.00  \n\n[26304 rows x 21 columns]",
      "text/html": "<div>\n<style scoped>\n    .dataframe tbody tr th:only-of-type {\n        vertical-align: middle;\n    }\n\n    .dataframe tbody tr th {\n        vertical-align: top;\n    }\n\n    .dataframe thead th {\n        text-align: right;\n    }\n</style>\n<table border=\"1\" class=\"dataframe\">\n  <thead>\n    <tr style=\"text-align: right;\">\n      <th></th>\n      <th>load</th>\n      <th>temp</th>\n      <th>hour</th>\n      <th>month</th>\n      <th>dayofweek</th>\n      <th>load_lag1</th>\n      <th>load_lag2</th>\n      <th>load_lag3</th>\n      <th>load_lag4</th>\n      <th>load_lag5</th>\n      <th>...</th>\n      <th>load_lag7</th>\n      <th>load_lag8</th>\n      <th>temp_lag1</th>\n      <th>temp_lag2</th>\n      <th>temp_lag3</th>\n      <th>temp_lag4</th>\n      <th>temp_lag5</th>\n      <th>temp_lag6</th>\n      <th>temp_lag7</th>\n      <th>temp_lag8</th>\n    </tr>\n  </thead>\n  <tbody>\n    <tr>\n      <th>2012-01-01 00:00:00</th>\n      <td>2,698.00</td>\n      <td>32.00</td>\n      <td>0</td>\n      <td>1</td>\n      <td>1</td>\n      <td>NaN</td>\n      <td>NaN</td>\n      <td>NaN</td>\n      <td>NaN</td>\n      <td>NaN</td>\n      <td>...</td>\n      <td>NaN</td>\n      <td>NaN</td>\n      <td>NaN</td>\n      <td>NaN</td>\n      <td>NaN</td>\n      <td>NaN</td>\n      <td>NaN</td>\n      <td>NaN</td>\n      <td>NaN</td>\n      <td>NaN</td>\n    </tr>\n    <tr>\n      <th>2012-01-01 01:00:00</th>\n      <td>2,558.00</td>\n      <td>32.67</td>\n      <td>1</td>\n      <td>1</td>\n      <td>1</td>\n      <td>2,698.00</td>\n      <td>NaN</td>\n      <td>NaN</td>\n      <td>NaN</td>\n      <td>NaN</td>\n      <td>...</td>\n      <td>NaN</td>\n      <td>NaN</td>\n      <td>32.00</td>\n      <td>NaN</td>\n      <td>NaN</td>\n      <td>NaN</td>\n      <td>NaN</td>\n      <td>NaN</td>\n      <td>NaN</td>\n      <td>NaN</td>\n    </tr>\n    <tr>\n      <th>2012-01-01 02:00:00</th>\n      <td>2,444.00</td>\n      <td>30.00</td>\n      <td>2</td>\n      <td>1</td>\n      <td>1</td>\n      <td>2,558.00</td>\n      <td>2,698.00</td>\n      <td>NaN</td>\n      <td>NaN</td>\n      <td>NaN</td>\n      <td>...</td>\n      <td>NaN</td>\n      <td>NaN</td>\n      <td>32.67</td>\n      <td>32.00</td>\n      <td>NaN</td>\n      <td>NaN</td>\n      <td>NaN</td>\n      <td>NaN</td>\n      <td>NaN</td>\n      <td>NaN</td>\n    </tr>\n    <tr>\n      <th>2012-01-01 03:00:00</th>\n      <td>2,402.00</td>\n      <td>31.00</td>\n      <td>3</td>\n      <td>1</td>\n      <td>1</td>\n      <td>2,444.00</td>\n      <td>2,558.00</td>\n      <td>2,698.00</td>\n      <td>NaN</td>\n      <td>NaN</td>\n      <td>...</td>\n      <td>NaN</td>\n      <td>NaN</td>\n      <td>30.00</td>\n      <td>32.67</td>\n      <td>32.00</td>\n      <td>NaN</td>\n      <td>NaN</td>\n      <td>NaN</td>\n      <td>NaN</td>\n      <td>NaN</td>\n    </tr>\n    <tr>\n      <th>2012-01-01 04:00:00</th>\n      <td>2,403.00</td>\n      <td>32.00</td>\n      <td>4</td>\n      <td>1</td>\n      <td>1</td>\n      <td>2,402.00</td>\n      <td>2,444.00</td>\n      <td>2,558.00</td>\n      <td>2,698.00</td>\n      <td>NaN</td>\n      <td>...</td>\n      <td>NaN</td>\n      <td>NaN</td>\n      <td>31.00</td>\n      <td>30.00</td>\n      <td>32.67</td>\n      <td>32.00</td>\n      <td>NaN</td>\n      <td>NaN</td>\n      <td>NaN</td>\n      <td>NaN</td>\n    </tr>\n    <tr>\n      <th>...</th>\n      <td>...</td>\n      <td>...</td>\n      <td>...</td>\n      <td>...</td>\n      <td>...</td>\n      <td>...</td>\n      <td>...</td>\n      <td>...</td>\n      <td>...</td>\n      <td>...</td>\n      <td>...</td>\n      <td>...</td>\n      <td>...</td>\n      <td>...</td>\n      <td>...</td>\n      <td>...</td>\n      <td>...</td>\n      <td>...</td>\n      <td>...</td>\n      <td>...</td>\n      <td>...</td>\n    </tr>\n    <tr>\n      <th>2014-12-31 19:00:00</th>\n      <td>4,012.00</td>\n      <td>18.00</td>\n      <td>19</td>\n      <td>12</td>\n      <td>31</td>\n      <td>4,199.00</td>\n      <td>4,319.00</td>\n      <td>4,141.00</td>\n      <td>3,912.00</td>\n      <td>3,893.00</td>\n      <td>...</td>\n      <td>3,982.00</td>\n      <td>4,030.00</td>\n      <td>20.00</td>\n      <td>22.33</td>\n      <td>23.67</td>\n      <td>25.00</td>\n      <td>25.33</td>\n      <td>24.33</td>\n      <td>24.33</td>\n      <td>22.67</td>\n    </tr>\n    <tr>\n      <th>2014-12-31 20:00:00</th>\n      <td>3,856.00</td>\n      <td>16.67</td>\n      <td>20</td>\n      <td>12</td>\n      <td>31</td>\n      <td>4,012.00</td>\n      <td>4,199.00</td>\n      <td>4,319.00</td>\n      <td>4,141.00</td>\n      <td>3,912.00</td>\n      <td>...</td>\n      <td>3,933.00</td>\n      <td>3,982.00</td>\n      <td>18.00</td>\n      <td>20.00</td>\n      <td>22.33</td>\n      <td>23.67</td>\n      <td>25.00</td>\n      <td>25.33</td>\n      <td>24.33</td>\n      <td>24.33</td>\n    </tr>\n    <tr>\n      <th>2014-12-31 21:00:00</th>\n      <td>3,671.00</td>\n      <td>17.00</td>\n      <td>21</td>\n      <td>12</td>\n      <td>31</td>\n      <td>3,856.00</td>\n      <td>4,012.00</td>\n      <td>4,199.00</td>\n      <td>4,319.00</td>\n      <td>4,141.00</td>\n      <td>...</td>\n      <td>3,893.00</td>\n      <td>3,933.00</td>\n      <td>16.67</td>\n      <td>18.00</td>\n      <td>20.00</td>\n      <td>22.33</td>\n      <td>23.67</td>\n      <td>25.00</td>\n      <td>25.33</td>\n      <td>24.33</td>\n    </tr>\n    <tr>\n      <th>2014-12-31 22:00:00</th>\n      <td>3,499.00</td>\n      <td>15.33</td>\n      <td>22</td>\n      <td>12</td>\n      <td>31</td>\n      <td>3,671.00</td>\n      <td>3,856.00</td>\n      <td>4,012.00</td>\n      <td>4,199.00</td>\n      <td>4,319.00</td>\n      <td>...</td>\n      <td>3,912.00</td>\n      <td>3,893.00</td>\n      <td>17.00</td>\n      <td>16.67</td>\n      <td>18.00</td>\n      <td>20.00</td>\n      <td>22.33</td>\n      <td>23.67</td>\n      <td>25.00</td>\n      <td>25.33</td>\n    </tr>\n    <tr>\n      <th>2014-12-31 23:00:00</th>\n      <td>3,345.00</td>\n      <td>15.33</td>\n      <td>23</td>\n      <td>12</td>\n      <td>31</td>\n      <td>3,499.00</td>\n      <td>3,671.00</td>\n      <td>3,856.00</td>\n      <td>4,012.00</td>\n      <td>4,199.00</td>\n      <td>...</td>\n      <td>4,141.00</td>\n      <td>3,912.00</td>\n      <td>15.33</td>\n      <td>17.00</td>\n      <td>16.67</td>\n      <td>18.00</td>\n      <td>20.00</td>\n      <td>22.33</td>\n      <td>23.67</td>\n      <td>25.00</td>\n    </tr>\n  </tbody>\n</table>\n<p>26304 rows × 21 columns</p>\n</div>"
     },
     "execution_count": 11,
     "metadata": {},
     "output_type": "execute_result"
    }
   ],
   "source": [
    "generated_lagged_features(ts_data, 'temp', 8)\n",
    "generated_lagged_features(ts_data, 'load', 8)\n",
    "ts_data"
   ],
   "metadata": {
    "collapsed": false,
    "ExecuteTime": {
     "end_time": "2023-11-11T18:31:14.194850200Z",
     "start_time": "2023-11-11T18:31:14.104945700Z"
    }
   },
   "id": "9f657e3b10ab3586"
  },
  {
   "cell_type": "code",
   "execution_count": 12,
   "outputs": [
    {
     "data": {
      "text/plain": "                     load_rol_mean     load\n2012-01-01 00:00:00            NaN 2,698.00\n2012-01-01 01:00:00            NaN 2,558.00\n2012-01-01 02:00:00            NaN 2,444.00\n2012-01-01 03:00:00            NaN 2,402.00\n2012-01-01 04:00:00            NaN 2,403.00\n2012-01-01 05:00:00            NaN 2,453.00\n2012-01-01 06:00:00       2,493.00 2,560.00\n2012-01-01 07:00:00       2,470.00 2,719.00\n2012-01-01 08:00:00       2,496.83 2,916.00\n2012-01-01 09:00:00       2,575.50 3,105.00",
      "text/html": "<div>\n<style scoped>\n    .dataframe tbody tr th:only-of-type {\n        vertical-align: middle;\n    }\n\n    .dataframe tbody tr th {\n        vertical-align: top;\n    }\n\n    .dataframe thead th {\n        text-align: right;\n    }\n</style>\n<table border=\"1\" class=\"dataframe\">\n  <thead>\n    <tr style=\"text-align: right;\">\n      <th></th>\n      <th>load_rol_mean</th>\n      <th>load</th>\n    </tr>\n  </thead>\n  <tbody>\n    <tr>\n      <th>2012-01-01 00:00:00</th>\n      <td>NaN</td>\n      <td>2,698.00</td>\n    </tr>\n    <tr>\n      <th>2012-01-01 01:00:00</th>\n      <td>NaN</td>\n      <td>2,558.00</td>\n    </tr>\n    <tr>\n      <th>2012-01-01 02:00:00</th>\n      <td>NaN</td>\n      <td>2,444.00</td>\n    </tr>\n    <tr>\n      <th>2012-01-01 03:00:00</th>\n      <td>NaN</td>\n      <td>2,402.00</td>\n    </tr>\n    <tr>\n      <th>2012-01-01 04:00:00</th>\n      <td>NaN</td>\n      <td>2,403.00</td>\n    </tr>\n    <tr>\n      <th>2012-01-01 05:00:00</th>\n      <td>NaN</td>\n      <td>2,453.00</td>\n    </tr>\n    <tr>\n      <th>2012-01-01 06:00:00</th>\n      <td>2,493.00</td>\n      <td>2,560.00</td>\n    </tr>\n    <tr>\n      <th>2012-01-01 07:00:00</th>\n      <td>2,470.00</td>\n      <td>2,719.00</td>\n    </tr>\n    <tr>\n      <th>2012-01-01 08:00:00</th>\n      <td>2,496.83</td>\n      <td>2,916.00</td>\n    </tr>\n    <tr>\n      <th>2012-01-01 09:00:00</th>\n      <td>2,575.50</td>\n      <td>3,105.00</td>\n    </tr>\n  </tbody>\n</table>\n</div>"
     },
     "execution_count": 12,
     "metadata": {},
     "output_type": "execute_result"
    }
   ],
   "source": [
    "# create rolling window features\n",
    "from pandas import concat\n",
    "load_val = ts_data[['load']]\n",
    "shifted = load_val.shift(1)\n",
    "window = shifted.rolling(window=6)\n",
    "means = window.mean()\n",
    "new_dataframe = concat([means, load_val], axis=1)\n",
    "new_dataframe.columns = ['load_rol_mean', 'load']\n",
    "new_dataframe.head(10)"
   ],
   "metadata": {
    "collapsed": false,
    "ExecuteTime": {
     "end_time": "2023-11-11T19:11:52.779149100Z",
     "start_time": "2023-11-11T19:11:52.715654200Z"
    }
   },
   "id": "e8138eb9bedefedf"
  },
  {
   "cell_type": "code",
   "execution_count": 15,
   "outputs": [
    {
     "data": {
      "text/plain": "                         min     mean      max     load\n2012-01-01 00:00:00      NaN      NaN      NaN 2,698.00\n2012-01-01 01:00:00      NaN      NaN      NaN 2,558.00\n2012-01-01 02:00:00      NaN      NaN      NaN 2,444.00\n2012-01-01 03:00:00      NaN      NaN      NaN 2,402.00\n2012-01-01 04:00:00      NaN      NaN      NaN 2,403.00\n2012-01-01 05:00:00      NaN      NaN      NaN 2,453.00\n2012-01-01 06:00:00 2,402.00 2,525.50 2,698.00 2,560.00\n2012-01-01 07:00:00 2,402.00 2,451.75 2,558.00 2,719.00\n2012-01-01 08:00:00 2,402.00 2,425.50 2,453.00 2,916.00\n2012-01-01 09:00:00 2,402.00 2,454.50 2,560.00 3,105.00",
      "text/html": "<div>\n<style scoped>\n    .dataframe tbody tr th:only-of-type {\n        vertical-align: middle;\n    }\n\n    .dataframe tbody tr th {\n        vertical-align: top;\n    }\n\n    .dataframe thead th {\n        text-align: right;\n    }\n</style>\n<table border=\"1\" class=\"dataframe\">\n  <thead>\n    <tr style=\"text-align: right;\">\n      <th></th>\n      <th>min</th>\n      <th>mean</th>\n      <th>max</th>\n      <th>load</th>\n    </tr>\n  </thead>\n  <tbody>\n    <tr>\n      <th>2012-01-01 00:00:00</th>\n      <td>NaN</td>\n      <td>NaN</td>\n      <td>NaN</td>\n      <td>2,698.00</td>\n    </tr>\n    <tr>\n      <th>2012-01-01 01:00:00</th>\n      <td>NaN</td>\n      <td>NaN</td>\n      <td>NaN</td>\n      <td>2,558.00</td>\n    </tr>\n    <tr>\n      <th>2012-01-01 02:00:00</th>\n      <td>NaN</td>\n      <td>NaN</td>\n      <td>NaN</td>\n      <td>2,444.00</td>\n    </tr>\n    <tr>\n      <th>2012-01-01 03:00:00</th>\n      <td>NaN</td>\n      <td>NaN</td>\n      <td>NaN</td>\n      <td>2,402.00</td>\n    </tr>\n    <tr>\n      <th>2012-01-01 04:00:00</th>\n      <td>NaN</td>\n      <td>NaN</td>\n      <td>NaN</td>\n      <td>2,403.00</td>\n    </tr>\n    <tr>\n      <th>2012-01-01 05:00:00</th>\n      <td>NaN</td>\n      <td>NaN</td>\n      <td>NaN</td>\n      <td>2,453.00</td>\n    </tr>\n    <tr>\n      <th>2012-01-01 06:00:00</th>\n      <td>2,402.00</td>\n      <td>2,525.50</td>\n      <td>2,698.00</td>\n      <td>2,560.00</td>\n    </tr>\n    <tr>\n      <th>2012-01-01 07:00:00</th>\n      <td>2,402.00</td>\n      <td>2,451.75</td>\n      <td>2,558.00</td>\n      <td>2,719.00</td>\n    </tr>\n    <tr>\n      <th>2012-01-01 08:00:00</th>\n      <td>2,402.00</td>\n      <td>2,425.50</td>\n      <td>2,453.00</td>\n      <td>2,916.00</td>\n    </tr>\n    <tr>\n      <th>2012-01-01 09:00:00</th>\n      <td>2,402.00</td>\n      <td>2,454.50</td>\n      <td>2,560.00</td>\n      <td>3,105.00</td>\n    </tr>\n  </tbody>\n</table>\n</div>"
     },
     "execution_count": 15,
     "metadata": {},
     "output_type": "execute_result"
    }
   ],
   "source": [
    "# create rolling window features\n",
    "load_val = ts_data[['load']]\n",
    "width = 4\n",
    "shifted = load_val.shift(width - 1)\n",
    "window = shifted.rolling(window=width)\n",
    "new_dataframe = pd.concat([window.min(),\n",
    "                           window.mean(), window.max(), load_val], axis=1)\n",
    "new_dataframe.columns = ['min', 'mean', 'max', 'load']\n",
    "new_dataframe.head(10)"
   ],
   "metadata": {
    "collapsed": false,
    "ExecuteTime": {
     "end_time": "2023-11-11T19:47:48.586081900Z",
     "start_time": "2023-11-11T19:47:48.555361400Z"
    }
   },
   "id": "606b8ec39ff41527"
  },
  {
   "cell_type": "code",
   "execution_count": 16,
   "outputs": [
    {
     "data": {
      "text/plain": "                         min     mean      max   load+1\n2012-01-01 00:00:00 2,698.00 2,698.00 2,698.00 2,558.00\n2012-01-01 01:00:00 2,558.00 2,628.00 2,698.00 2,444.00\n2012-01-01 02:00:00 2,444.00 2,566.67 2,698.00 2,402.00\n2012-01-01 03:00:00 2,402.00 2,525.50 2,698.00 2,403.00\n2012-01-01 04:00:00 2,402.00 2,501.00 2,698.00 2,453.00\n2012-01-01 05:00:00 2,402.00 2,493.00 2,698.00 2,560.00\n2012-01-01 06:00:00 2,402.00 2,502.57 2,698.00 2,719.00\n2012-01-01 07:00:00 2,402.00 2,529.62 2,719.00 2,916.00\n2012-01-01 08:00:00 2,402.00 2,572.56 2,916.00 3,105.00\n2012-01-01 09:00:00 2,402.00 2,625.80 3,105.00 3,174.00",
      "text/html": "<div>\n<style scoped>\n    .dataframe tbody tr th:only-of-type {\n        vertical-align: middle;\n    }\n\n    .dataframe tbody tr th {\n        vertical-align: top;\n    }\n\n    .dataframe thead th {\n        text-align: right;\n    }\n</style>\n<table border=\"1\" class=\"dataframe\">\n  <thead>\n    <tr style=\"text-align: right;\">\n      <th></th>\n      <th>min</th>\n      <th>mean</th>\n      <th>max</th>\n      <th>load+1</th>\n    </tr>\n  </thead>\n  <tbody>\n    <tr>\n      <th>2012-01-01 00:00:00</th>\n      <td>2,698.00</td>\n      <td>2,698.00</td>\n      <td>2,698.00</td>\n      <td>2,558.00</td>\n    </tr>\n    <tr>\n      <th>2012-01-01 01:00:00</th>\n      <td>2,558.00</td>\n      <td>2,628.00</td>\n      <td>2,698.00</td>\n      <td>2,444.00</td>\n    </tr>\n    <tr>\n      <th>2012-01-01 02:00:00</th>\n      <td>2,444.00</td>\n      <td>2,566.67</td>\n      <td>2,698.00</td>\n      <td>2,402.00</td>\n    </tr>\n    <tr>\n      <th>2012-01-01 03:00:00</th>\n      <td>2,402.00</td>\n      <td>2,525.50</td>\n      <td>2,698.00</td>\n      <td>2,403.00</td>\n    </tr>\n    <tr>\n      <th>2012-01-01 04:00:00</th>\n      <td>2,402.00</td>\n      <td>2,501.00</td>\n      <td>2,698.00</td>\n      <td>2,453.00</td>\n    </tr>\n    <tr>\n      <th>2012-01-01 05:00:00</th>\n      <td>2,402.00</td>\n      <td>2,493.00</td>\n      <td>2,698.00</td>\n      <td>2,560.00</td>\n    </tr>\n    <tr>\n      <th>2012-01-01 06:00:00</th>\n      <td>2,402.00</td>\n      <td>2,502.57</td>\n      <td>2,698.00</td>\n      <td>2,719.00</td>\n    </tr>\n    <tr>\n      <th>2012-01-01 07:00:00</th>\n      <td>2,402.00</td>\n      <td>2,529.62</td>\n      <td>2,719.00</td>\n      <td>2,916.00</td>\n    </tr>\n    <tr>\n      <th>2012-01-01 08:00:00</th>\n      <td>2,402.00</td>\n      <td>2,572.56</td>\n      <td>2,916.00</td>\n      <td>3,105.00</td>\n    </tr>\n    <tr>\n      <th>2012-01-01 09:00:00</th>\n      <td>2,402.00</td>\n      <td>2,625.80</td>\n      <td>3,105.00</td>\n      <td>3,174.00</td>\n    </tr>\n  </tbody>\n</table>\n</div>"
     },
     "execution_count": 16,
     "metadata": {},
     "output_type": "execute_result"
    }
   ],
   "source": [
    "# create expanding window features\n",
    "load_val = ts_data[['load']]\n",
    "window = load_val.expanding()\n",
    "new_dataframe = concat([window.min(),\n",
    "                        window.mean(), window.max(), load_val. shift(-1)], axis=1)\n",
    "new_dataframe.columns = ['min', 'mean', 'max', 'load+1']\n",
    "new_dataframe.head(10)"
   ],
   "metadata": {
    "collapsed": false,
    "ExecuteTime": {
     "end_time": "2023-11-11T19:48:25.664310400Z",
     "start_time": "2023-11-11T19:48:25.613626700Z"
    }
   },
   "id": "8b2f73f17d997f0f"
  }
 ],
 "metadata": {
  "kernelspec": {
   "display_name": "Python 3",
   "language": "python",
   "name": "python3"
  },
  "language_info": {
   "codemirror_mode": {
    "name": "ipython",
    "version": 2
   },
   "file_extension": ".py",
   "mimetype": "text/x-python",
   "name": "python",
   "nbconvert_exporter": "python",
   "pygments_lexer": "ipython2",
   "version": "2.7.6"
  }
 },
 "nbformat": 4,
 "nbformat_minor": 5
}
