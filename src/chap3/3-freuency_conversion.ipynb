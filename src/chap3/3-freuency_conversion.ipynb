{
 "cells": [
  {
   "cell_type": "code",
   "execution_count": 2,
   "id": "initial_id",
   "metadata": {
    "collapsed": true,
    "ExecuteTime": {
     "end_time": "2023-11-08T16:40:53.345994200Z",
     "start_time": "2023-11-08T16:40:53.310170600Z"
    }
   },
   "outputs": [],
   "source": [
    "import os\n",
    "import pandas as pd\n",
    "import numpy as np\n",
    "from common.utils import load_data, extract_data"
   ]
  },
  {
   "cell_type": "code",
   "execution_count": 10,
   "outputs": [],
   "source": [
    "# adjust the format of the data set\n",
    "pd.options.display.float_format = '{:,.2f}'.format\n",
    "np.set_printoptions(precision=2)\n",
    "data_dir = \"data\"\n",
    "# if not done already, extract zipped data and save as csv\n",
    "ts_data = load_data(data_dir)\n"
   ],
   "metadata": {
    "collapsed": false,
    "ExecuteTime": {
     "end_time": "2023-11-08T16:44:43.548151400Z",
     "start_time": "2023-11-08T16:44:43.348886900Z"
    }
   },
   "id": "d5527e7cfb678092"
  },
  {
   "cell_type": "code",
   "execution_count": 11,
   "outputs": [
    {
     "data": {
      "text/plain": "                        load  temp\n2012-01-01 00:00:00 2,698.00 32.00\n2012-01-01 01:00:00 2,558.00 32.67\n2012-01-01 02:00:00 2,444.00 30.00\n2012-01-01 03:00:00 2,402.00 31.00\n2012-01-01 04:00:00 2,403.00 32.00\n2012-01-01 05:00:00 2,453.00 31.33\n2012-01-01 06:00:00 2,560.00 30.00\n2012-01-01 07:00:00 2,719.00 29.00\n2012-01-01 08:00:00 2,916.00 29.00\n2012-01-01 09:00:00 3,105.00 33.33",
      "text/html": "<div>\n<style scoped>\n    .dataframe tbody tr th:only-of-type {\n        vertical-align: middle;\n    }\n\n    .dataframe tbody tr th {\n        vertical-align: top;\n    }\n\n    .dataframe thead th {\n        text-align: right;\n    }\n</style>\n<table border=\"1\" class=\"dataframe\">\n  <thead>\n    <tr style=\"text-align: right;\">\n      <th></th>\n      <th>load</th>\n      <th>temp</th>\n    </tr>\n  </thead>\n  <tbody>\n    <tr>\n      <th>2012-01-01 00:00:00</th>\n      <td>2,698.00</td>\n      <td>32.00</td>\n    </tr>\n    <tr>\n      <th>2012-01-01 01:00:00</th>\n      <td>2,558.00</td>\n      <td>32.67</td>\n    </tr>\n    <tr>\n      <th>2012-01-01 02:00:00</th>\n      <td>2,444.00</td>\n      <td>30.00</td>\n    </tr>\n    <tr>\n      <th>2012-01-01 03:00:00</th>\n      <td>2,402.00</td>\n      <td>31.00</td>\n    </tr>\n    <tr>\n      <th>2012-01-01 04:00:00</th>\n      <td>2,403.00</td>\n      <td>32.00</td>\n    </tr>\n    <tr>\n      <th>2012-01-01 05:00:00</th>\n      <td>2,453.00</td>\n      <td>31.33</td>\n    </tr>\n    <tr>\n      <th>2012-01-01 06:00:00</th>\n      <td>2,560.00</td>\n      <td>30.00</td>\n    </tr>\n    <tr>\n      <th>2012-01-01 07:00:00</th>\n      <td>2,719.00</td>\n      <td>29.00</td>\n    </tr>\n    <tr>\n      <th>2012-01-01 08:00:00</th>\n      <td>2,916.00</td>\n      <td>29.00</td>\n    </tr>\n    <tr>\n      <th>2012-01-01 09:00:00</th>\n      <td>3,105.00</td>\n      <td>33.33</td>\n    </tr>\n  </tbody>\n</table>\n</div>"
     },
     "execution_count": 11,
     "metadata": {},
     "output_type": "execute_result"
    }
   ],
   "source": [
    "ts_data.head(10) "
   ],
   "metadata": {
    "collapsed": false,
    "ExecuteTime": {
     "end_time": "2023-11-08T16:44:44.161311800Z",
     "start_time": "2023-11-08T16:44:44.137656600Z"
    }
   },
   "id": "a9f7c5742eba16cd"
  },
  {
   "cell_type": "code",
   "execution_count": 15,
   "outputs": [
    {
     "data": {
      "text/plain": "               load  temp\n2012-01-02 2,458.00 43.67\n2012-01-03 2,780.00 26.33\n2012-01-04 3,184.00  6.00\n2012-01-05 3,014.00 22.33\n2012-01-06 2,992.00 17.00\n2012-01-09 2,820.00 20.67\n2012-01-10 2,908.00 30.00\n2012-01-11 2,872.00 27.67\n2012-01-12 2,812.00 27.67\n2012-01-13 2,747.00 30.00\n2012-01-16 3,220.00  0.00\n2012-01-17 2,915.00 29.00\n2012-01-18 2,670.00 39.33\n2012-01-19 3,144.00 11.33\n2012-01-20 3,005.00 26.33\n2012-01-23 2,808.00 22.67\n2012-01-24 2,708.00 40.33\n2012-01-25 2,653.00 37.00\n2012-01-26 2,786.00 29.33\n2012-01-27 2,736.00 31.00",
      "text/html": "<div>\n<style scoped>\n    .dataframe tbody tr th:only-of-type {\n        vertical-align: middle;\n    }\n\n    .dataframe tbody tr th {\n        vertical-align: top;\n    }\n\n    .dataframe thead th {\n        text-align: right;\n    }\n</style>\n<table border=\"1\" class=\"dataframe\">\n  <thead>\n    <tr style=\"text-align: right;\">\n      <th></th>\n      <th>load</th>\n      <th>temp</th>\n    </tr>\n  </thead>\n  <tbody>\n    <tr>\n      <th>2012-01-02</th>\n      <td>2,458.00</td>\n      <td>43.67</td>\n    </tr>\n    <tr>\n      <th>2012-01-03</th>\n      <td>2,780.00</td>\n      <td>26.33</td>\n    </tr>\n    <tr>\n      <th>2012-01-04</th>\n      <td>3,184.00</td>\n      <td>6.00</td>\n    </tr>\n    <tr>\n      <th>2012-01-05</th>\n      <td>3,014.00</td>\n      <td>22.33</td>\n    </tr>\n    <tr>\n      <th>2012-01-06</th>\n      <td>2,992.00</td>\n      <td>17.00</td>\n    </tr>\n    <tr>\n      <th>2012-01-09</th>\n      <td>2,820.00</td>\n      <td>20.67</td>\n    </tr>\n    <tr>\n      <th>2012-01-10</th>\n      <td>2,908.00</td>\n      <td>30.00</td>\n    </tr>\n    <tr>\n      <th>2012-01-11</th>\n      <td>2,872.00</td>\n      <td>27.67</td>\n    </tr>\n    <tr>\n      <th>2012-01-12</th>\n      <td>2,812.00</td>\n      <td>27.67</td>\n    </tr>\n    <tr>\n      <th>2012-01-13</th>\n      <td>2,747.00</td>\n      <td>30.00</td>\n    </tr>\n    <tr>\n      <th>2012-01-16</th>\n      <td>3,220.00</td>\n      <td>0.00</td>\n    </tr>\n    <tr>\n      <th>2012-01-17</th>\n      <td>2,915.00</td>\n      <td>29.00</td>\n    </tr>\n    <tr>\n      <th>2012-01-18</th>\n      <td>2,670.00</td>\n      <td>39.33</td>\n    </tr>\n    <tr>\n      <th>2012-01-19</th>\n      <td>3,144.00</td>\n      <td>11.33</td>\n    </tr>\n    <tr>\n      <th>2012-01-20</th>\n      <td>3,005.00</td>\n      <td>26.33</td>\n    </tr>\n    <tr>\n      <th>2012-01-23</th>\n      <td>2,808.00</td>\n      <td>22.67</td>\n    </tr>\n    <tr>\n      <th>2012-01-24</th>\n      <td>2,708.00</td>\n      <td>40.33</td>\n    </tr>\n    <tr>\n      <th>2012-01-25</th>\n      <td>2,653.00</td>\n      <td>37.00</td>\n    </tr>\n    <tr>\n      <th>2012-01-26</th>\n      <td>2,786.00</td>\n      <td>29.33</td>\n    </tr>\n    <tr>\n      <th>2012-01-27</th>\n      <td>2,736.00</td>\n      <td>31.00</td>\n    </tr>\n  </tbody>\n</table>\n</div>"
     },
     "execution_count": 15,
     "metadata": {},
     "output_type": "execute_result"
    }
   ],
   "source": [
    "# The primary function for changing frequencies is the asfreq() method. This\n",
    "# method converts a time series to specified frequency and optionally provides\n",
    "# a filling method to pad/backfill missing values. For a DatetimeIndex, this is\n",
    "# basically just a thin but convenient wrapper around reindex() that generates a\n",
    "# date _ range and calls reindex, as shown in the following example:\n",
    "daily_ts_data = ts_data.asfreq(pd.offsets.BDay())\n",
    "daily_ts_data.head(20)"
   ],
   "metadata": {
    "collapsed": false,
    "ExecuteTime": {
     "end_time": "2023-11-08T17:32:21.248144700Z",
     "start_time": "2023-11-08T17:32:21.173663600Z"
    }
   },
   "id": "9b28f48f18ee2e11"
  },
  {
   "cell_type": "code",
   "execution_count": 16,
   "outputs": [
    {
     "data": {
      "text/plain": "               load  temp\n2012-01-02 2,458.00 43.67\n2012-01-03 2,780.00 26.33\n2012-01-04 3,184.00  6.00\n2012-01-05 3,014.00 22.33\n2012-01-06 2,992.00 17.00",
      "text/html": "<div>\n<style scoped>\n    .dataframe tbody tr th:only-of-type {\n        vertical-align: middle;\n    }\n\n    .dataframe tbody tr th {\n        vertical-align: top;\n    }\n\n    .dataframe thead th {\n        text-align: right;\n    }\n</style>\n<table border=\"1\" class=\"dataframe\">\n  <thead>\n    <tr style=\"text-align: right;\">\n      <th></th>\n      <th>load</th>\n      <th>temp</th>\n    </tr>\n  </thead>\n  <tbody>\n    <tr>\n      <th>2012-01-02</th>\n      <td>2,458.00</td>\n      <td>43.67</td>\n    </tr>\n    <tr>\n      <th>2012-01-03</th>\n      <td>2,780.00</td>\n      <td>26.33</td>\n    </tr>\n    <tr>\n      <th>2012-01-04</th>\n      <td>3,184.00</td>\n      <td>6.00</td>\n    </tr>\n    <tr>\n      <th>2012-01-05</th>\n      <td>3,014.00</td>\n      <td>22.33</td>\n    </tr>\n    <tr>\n      <th>2012-01-06</th>\n      <td>2,992.00</td>\n      <td>17.00</td>\n    </tr>\n  </tbody>\n</table>\n</div>"
     },
     "execution_count": 16,
     "metadata": {},
     "output_type": "execute_result"
    }
   ],
   "source": [
    "# The asfreq function optionally provides a filling method to pad/backfill\n",
    "# missing values. It returns the original data conformed to a new index with the\n",
    "#     specified frequency, as shown below:\n",
    "daily_ts_data.asfreq(pd.offsets.BDay(), method='pad')\n",
    "daily_ts_data.head(5)"
   ],
   "metadata": {
    "collapsed": false,
    "ExecuteTime": {
     "end_time": "2023-11-08T17:45:11.884849900Z",
     "start_time": "2023-11-08T17:45:11.825557400Z"
    }
   },
   "id": "c852011cb3e6fd16"
  },
  {
   "cell_type": "code",
   "execution_count": null,
   "outputs": [],
   "source": [],
   "metadata": {
    "collapsed": false
   },
   "id": "5f8ca621fcf68962"
  }
 ],
 "metadata": {
  "kernelspec": {
   "display_name": "Python 3",
   "language": "python",
   "name": "python3"
  },
  "language_info": {
   "codemirror_mode": {
    "name": "ipython",
    "version": 2
   },
   "file_extension": ".py",
   "mimetype": "text/x-python",
   "name": "python",
   "nbconvert_exporter": "python",
   "pygments_lexer": "ipython2",
   "version": "2.7.6"
  }
 },
 "nbformat": 4,
 "nbformat_minor": 5
}
