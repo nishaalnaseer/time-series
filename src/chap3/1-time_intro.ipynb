{
 "cells": [
  {
   "cell_type": "code",
   "execution_count": 1,
   "id": "initial_id",
   "metadata": {
    "collapsed": true,
    "ExecuteTime": {
     "end_time": "2023-11-07T17:01:17.546411700Z",
     "start_time": "2023-11-07T17:01:16.701924200Z"
    }
   },
   "outputs": [],
   "source": [
    "import pandas as pd \n",
    "import datetime as dt\n",
    "import numpy as np"
   ]
  },
  {
   "cell_type": "code",
   "execution_count": 2,
   "outputs": [
    {
     "data": {
      "text/plain": "Timestamp('2014-05-01 00:00:00')"
     },
     "execution_count": 2,
     "metadata": {},
     "output_type": "execute_result"
    }
   ],
   "source": [
    "pd.Timestamp(dt.datetime(2014, 5, 1))"
   ],
   "metadata": {
    "collapsed": false,
    "ExecuteTime": {
     "end_time": "2023-11-07T17:01:33.834844200Z",
     "start_time": "2023-11-07T17:01:33.783467300Z"
    }
   },
   "id": "b6a37a902da5cf60"
  },
  {
   "cell_type": "code",
   "execution_count": 3,
   "outputs": [
    {
     "data": {
      "text/plain": "Timestamp('2014-06-01 00:00:00')"
     },
     "execution_count": 3,
     "metadata": {},
     "output_type": "execute_result"
    }
   ],
   "source": [
    "pd.Timestamp('2014-06-01')"
   ],
   "metadata": {
    "collapsed": false,
    "ExecuteTime": {
     "end_time": "2023-11-07T17:01:50.881652400Z",
     "start_time": "2023-11-07T17:01:50.832689100Z"
    }
   },
   "id": "efc5df170e3736b1"
  },
  {
   "cell_type": "code",
   "execution_count": 4,
   "outputs": [
    {
     "data": {
      "text/plain": "Timestamp('2014-06-01 00:00:00')"
     },
     "execution_count": 4,
     "metadata": {},
     "output_type": "execute_result"
    }
   ],
   "source": [
    "pd.Timestamp(2014, 6, 1)"
   ],
   "metadata": {
    "collapsed": false,
    "ExecuteTime": {
     "end_time": "2023-11-07T17:02:23.669923800Z",
     "start_time": "2023-11-07T17:02:23.604999300Z"
    }
   },
   "id": "6221f816d8e8e078"
  },
  {
   "cell_type": "code",
   "execution_count": 6,
   "outputs": [
    {
     "data": {
      "text/plain": "Period('2014-06', 'M')"
     },
     "execution_count": 6,
     "metadata": {},
     "output_type": "execute_result"
    }
   ],
   "source": [
    "pd.Period('2014-06')"
   ],
   "metadata": {
    "collapsed": false,
    "ExecuteTime": {
     "end_time": "2023-11-07T17:05:21.510772300Z",
     "start_time": "2023-11-07T17:05:21.465488700Z"
    }
   },
   "id": "a23340d301b61d1c"
  },
  {
   "cell_type": "code",
   "execution_count": 8,
   "outputs": [
    {
     "data": {
      "text/plain": "Period('2014-06', 'M')"
     },
     "execution_count": 8,
     "metadata": {},
     "output_type": "execute_result"
    }
   ],
   "source": [
    "pd.Period('2014-06', 'M')"
   ],
   "metadata": {
    "collapsed": false,
    "ExecuteTime": {
     "end_time": "2023-11-07T17:05:41.109992900Z",
     "start_time": "2023-11-07T17:05:41.075810900Z"
    }
   },
   "id": "a3c6733ffa708132"
  },
  {
   "cell_type": "code",
   "execution_count": 9,
   "outputs": [
    {
     "data": {
      "text/plain": "Period('2014-06-01', 'D')"
     },
     "execution_count": 9,
     "metadata": {},
     "output_type": "execute_result"
    }
   ],
   "source": [
    "pd.Period('2014-06', freq='D')"
   ],
   "metadata": {
    "collapsed": false,
    "ExecuteTime": {
     "end_time": "2023-11-07T17:05:53.965655400Z",
     "start_time": "2023-11-07T17:05:53.915789700Z"
    }
   },
   "id": "9f29d823c0f98ee3"
  },
  {
   "cell_type": "code",
   "execution_count": 10,
   "outputs": [],
   "source": [
    "dates = [pd.Timestamp('2014-06-01'),\n",
    "         pd.Timestamp('2014-06-02'),\n",
    "         pd.Timestamp('2014-06-03')]"
   ],
   "metadata": {
    "collapsed": false,
    "ExecuteTime": {
     "end_time": "2023-11-07T17:06:47.885761100Z",
     "start_time": "2023-11-07T17:06:47.855557200Z"
    }
   },
   "id": "b4120a2bf8466ef1"
  },
  {
   "cell_type": "code",
   "execution_count": 11,
   "outputs": [
    {
     "data": {
      "text/plain": "[Timestamp('2014-06-01 00:00:00'),\n Timestamp('2014-06-02 00:00:00'),\n Timestamp('2014-06-03 00:00:00')]"
     },
     "execution_count": 11,
     "metadata": {},
     "output_type": "execute_result"
    }
   ],
   "source": [
    "dates"
   ],
   "metadata": {
    "collapsed": false,
    "ExecuteTime": {
     "end_time": "2023-11-07T17:06:54.605791Z",
     "start_time": "2023-11-07T17:06:54.545560600Z"
    }
   },
   "id": "437c71b9e0b277a2"
  },
  {
   "cell_type": "code",
   "execution_count": 12,
   "outputs": [],
   "source": [
    "ts_data = pd.Series(np.random.randn(3), dates)"
   ],
   "metadata": {
    "collapsed": false,
    "ExecuteTime": {
     "end_time": "2023-11-07T17:07:33.475586Z",
     "start_time": "2023-11-07T17:07:33.443918Z"
    }
   },
   "id": "99ff2f9dafd12a5d"
  },
  {
   "cell_type": "code",
   "execution_count": 13,
   "outputs": [
    {
     "data": {
      "text/plain": "2014-06-01    0.470100\n2014-06-02   -0.025845\n2014-06-03   -1.530014\ndtype: float64"
     },
     "execution_count": 13,
     "metadata": {},
     "output_type": "execute_result"
    }
   ],
   "source": [
    "ts_data"
   ],
   "metadata": {
    "collapsed": false,
    "ExecuteTime": {
     "end_time": "2023-11-07T17:07:40.228898200Z",
     "start_time": "2023-11-07T17:07:40.180723800Z"
    }
   },
   "id": "eb5118dcc1b4193d"
  },
  {
   "cell_type": "code",
   "execution_count": 14,
   "outputs": [
    {
     "data": {
      "text/plain": "pandas.core.indexes.datetimes.DatetimeIndex"
     },
     "execution_count": 14,
     "metadata": {},
     "output_type": "execute_result"
    }
   ],
   "source": [
    "type(ts_data.index)"
   ],
   "metadata": {
    "collapsed": false,
    "ExecuteTime": {
     "end_time": "2023-11-07T17:11:36.224326900Z",
     "start_time": "2023-11-07T17:11:36.203857600Z"
    }
   },
   "id": "1c5f055f2c5b09c4"
  },
  {
   "cell_type": "code",
   "execution_count": 15,
   "outputs": [
    {
     "data": {
      "text/plain": "DatetimeIndex(['2014-06-01', '2014-06-02', '2014-06-03'], dtype='datetime64[ns]', freq=None)"
     },
     "execution_count": 15,
     "metadata": {},
     "output_type": "execute_result"
    }
   ],
   "source": [
    "ts_data.index"
   ],
   "metadata": {
    "collapsed": false,
    "ExecuteTime": {
     "end_time": "2023-11-07T17:11:54.544951500Z",
     "start_time": "2023-11-07T17:11:54.525551100Z"
    }
   },
   "id": "ba574528e1dfb568"
  },
  {
   "cell_type": "code",
   "execution_count": 16,
   "outputs": [
    {
     "data": {
      "text/plain": "pandas.core.indexes.period.PeriodIndex"
     },
     "execution_count": 16,
     "metadata": {},
     "output_type": "execute_result"
    }
   ],
   "source": [
    "periods = [pd.Period('2014-01'), pd.Period('2014-02'), pd.Period('2014-03')]\n",
    "ts_data = pd.Series(np.random.randn(3), periods)\n",
    "type(ts_data.index)"
   ],
   "metadata": {
    "collapsed": false,
    "ExecuteTime": {
     "end_time": "2023-11-07T17:13:28.863649900Z",
     "start_time": "2023-11-07T17:13:28.819430500Z"
    }
   },
   "id": "b15e582b9f201604"
  },
  {
   "cell_type": "code",
   "execution_count": 17,
   "outputs": [
    {
     "data": {
      "text/plain": "2014-01   -0.882255\n2014-02   -1.038010\n2014-03    0.611498\nFreq: M, dtype: float64"
     },
     "execution_count": 17,
     "metadata": {},
     "output_type": "execute_result"
    }
   ],
   "source": [
    "ts_data"
   ],
   "metadata": {
    "collapsed": false,
    "ExecuteTime": {
     "end_time": "2023-11-07T17:13:38.748130900Z",
     "start_time": "2023-11-07T17:13:38.719930100Z"
    }
   },
   "id": "a3f68bd1fe59bb42"
  },
  {
   "cell_type": "code",
   "execution_count": 21,
   "outputs": [
    {
     "data": {
      "text/plain": "0   2012-03-11\n1   2012-01-10\n2          NaT\ndtype: datetime64[ns]"
     },
     "execution_count": 21,
     "metadata": {},
     "output_type": "execute_result"
    }
   ],
   "source": [
    "pd.to_datetime(pd.Series(['2012-03-11', '2012-01-10', None]))"
   ],
   "metadata": {
    "collapsed": false,
    "ExecuteTime": {
     "end_time": "2023-11-07T17:19:28.207096100Z",
     "start_time": "2023-11-07T17:19:28.191093700Z"
    }
   },
   "id": "20b4f04aea6e4bea"
  },
  {
   "cell_type": "code",
   "execution_count": 25,
   "outputs": [
    {
     "data": {
      "text/plain": "DatetimeIndex(['2012-11-23', '2012-12-31'], dtype='datetime64[ns]', freq=None)"
     },
     "execution_count": 25,
     "metadata": {},
     "output_type": "execute_result"
    }
   ],
   "source": [
    "pd.to_datetime(['2012.11.23', '2012.12.31'])"
   ],
   "metadata": {
    "collapsed": false,
    "ExecuteTime": {
     "end_time": "2023-11-07T17:20:51.727238300Z",
     "start_time": "2023-11-07T17:20:51.695668500Z"
    }
   },
   "id": "62c3e95697b93f32"
  },
  {
   "cell_type": "code",
   "execution_count": 26,
   "outputs": [
    {
     "data": {
      "text/plain": "DatetimeIndex(['2012-11-23', '2012-12-31'], dtype='datetime64[ns]', freq=None)"
     },
     "execution_count": 26,
     "metadata": {},
     "output_type": "execute_result"
    }
   ],
   "source": [
    "pd.DatetimeIndex(['2012-11-23', '2012-12-31'], dtype='datetime64[ns]', freq=None)"
   ],
   "metadata": {
    "collapsed": false,
    "ExecuteTime": {
     "end_time": "2023-11-07T17:22:26.312355200Z",
     "start_time": "2023-11-07T17:22:26.296270900Z"
    }
   },
   "id": "14ca390b91833351"
  },
  {
   "cell_type": "code",
   "execution_count": 27,
   "outputs": [
    {
     "data": {
      "text/plain": "DatetimeIndex(['2014-01-04 10:00:00'], dtype='datetime64[ns]', freq=None)"
     },
     "execution_count": 27,
     "metadata": {},
     "output_type": "execute_result"
    }
   ],
   "source": [
    "pd.to_datetime(['04-01-2014 10:00'], dayfirst=True)"
   ],
   "metadata": {
    "collapsed": false,
    "ExecuteTime": {
     "end_time": "2023-11-07T17:23:23.055558700Z",
     "start_time": "2023-11-07T17:23:23.039792400Z"
    }
   },
   "id": "e57936d37d5ccd71"
  },
  {
   "cell_type": "code",
   "execution_count": 31,
   "outputs": [
    {
     "data": {
      "text/plain": "DatetimeIndex(['2014-01-10', '2012-10-26'], dtype='datetime64[ns]', freq=None)"
     },
     "execution_count": 31,
     "metadata": {},
     "output_type": "execute_result"
    }
   ],
   "source": [
    "pd.to_datetime(['10-01-2014', '26-10-2012'], dayfirst=True)"
   ],
   "metadata": {
    "collapsed": false,
    "ExecuteTime": {
     "end_time": "2023-11-07T17:25:03.660846900Z",
     "start_time": "2023-11-07T17:25:03.629481700Z"
    }
   },
   "id": "1b70734f1be4ecb9"
  },
  {
   "cell_type": "code",
   "execution_count": 33,
   "outputs": [
    {
     "data": {
      "text/plain": "DatetimeIndex(['2018-11-12', '2018-11-13', '2018-11-14', '2018-11-15'], dtype='datetime64[ns]', freq=None)"
     },
     "execution_count": 33,
     "metadata": {},
     "output_type": "execute_result"
    }
   ],
   "source": [
    "pd.to_datetime(['2018/11/12', '2018/11/13', '2018/11/14', '2018/11/15'], format='%Y/%m/%d')"
   ],
   "metadata": {
    "collapsed": false,
    "ExecuteTime": {
     "end_time": "2023-11-07T17:31:48.710854800Z",
     "start_time": "2023-11-07T17:31:48.695089Z"
    }
   },
   "id": "4513f23744c6fa24"
  },
  {
   "cell_type": "code",
   "execution_count": 35,
   "outputs": [
    {
     "data": {
      "text/plain": "Timestamp('2018-11-11 01:59:00')"
     },
     "execution_count": 35,
     "metadata": {},
     "output_type": "execute_result"
    }
   ],
   "source": [
    "pd.to_datetime('11-11-2018 01:59', format='%d-%m-%Y %H:%M')\n"
   ],
   "metadata": {
    "collapsed": false,
    "ExecuteTime": {
     "end_time": "2023-11-07T17:35:16.675060700Z",
     "start_time": "2023-11-07T17:35:16.658904Z"
    }
   },
   "id": "f1a20fe9bd6a44d8"
  },
  {
   "cell_type": "code",
   "execution_count": null,
   "outputs": [],
   "source": [],
   "metadata": {
    "collapsed": false
   },
   "id": "2b769a6f4745fa40"
  }
 ],
 "metadata": {
  "kernelspec": {
   "display_name": "Python 3",
   "language": "python",
   "name": "python3"
  },
  "language_info": {
   "codemirror_mode": {
    "name": "ipython",
    "version": 2
   },
   "file_extension": ".py",
   "mimetype": "text/x-python",
   "name": "python",
   "nbconvert_exporter": "python",
   "pygments_lexer": "ipython2",
   "version": "2.7.6"
  }
 },
 "nbformat": 4,
 "nbformat_minor": 5
}
