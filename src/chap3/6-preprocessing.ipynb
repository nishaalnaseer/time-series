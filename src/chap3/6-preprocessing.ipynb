{
 "cells": [
  {
   "cell_type": "code",
   "execution_count": 1,
   "id": "initial_id",
   "metadata": {
    "collapsed": true,
    "ExecuteTime": {
     "end_time": "2023-11-09T18:44:26.207414800Z",
     "start_time": "2023-11-09T18:44:25.087886500Z"
    }
   },
   "outputs": [
    {
     "data": {
      "text/plain": "                        load  temp\n2012-01-01 00:00:00 2,698.00 32.00\n2012-01-01 01:00:00 2,558.00 32.67\n2012-01-01 02:00:00 2,444.00 30.00\n2012-01-01 03:00:00 2,402.00 31.00\n2012-01-01 04:00:00 2,403.00 32.00\n2012-01-01 05:00:00 2,453.00 31.33\n2012-01-01 06:00:00 2,560.00 30.00\n2012-01-01 07:00:00 2,719.00 29.00\n2012-01-01 08:00:00 2,916.00 29.00\n2012-01-01 09:00:00 3,105.00 33.33",
      "text/html": "<div>\n<style scoped>\n    .dataframe tbody tr th:only-of-type {\n        vertical-align: middle;\n    }\n\n    .dataframe tbody tr th {\n        vertical-align: top;\n    }\n\n    .dataframe thead th {\n        text-align: right;\n    }\n</style>\n<table border=\"1\" class=\"dataframe\">\n  <thead>\n    <tr style=\"text-align: right;\">\n      <th></th>\n      <th>load</th>\n      <th>temp</th>\n    </tr>\n  </thead>\n  <tbody>\n    <tr>\n      <th>2012-01-01 00:00:00</th>\n      <td>2,698.00</td>\n      <td>32.00</td>\n    </tr>\n    <tr>\n      <th>2012-01-01 01:00:00</th>\n      <td>2,558.00</td>\n      <td>32.67</td>\n    </tr>\n    <tr>\n      <th>2012-01-01 02:00:00</th>\n      <td>2,444.00</td>\n      <td>30.00</td>\n    </tr>\n    <tr>\n      <th>2012-01-01 03:00:00</th>\n      <td>2,402.00</td>\n      <td>31.00</td>\n    </tr>\n    <tr>\n      <th>2012-01-01 04:00:00</th>\n      <td>2,403.00</td>\n      <td>32.00</td>\n    </tr>\n    <tr>\n      <th>2012-01-01 05:00:00</th>\n      <td>2,453.00</td>\n      <td>31.33</td>\n    </tr>\n    <tr>\n      <th>2012-01-01 06:00:00</th>\n      <td>2,560.00</td>\n      <td>30.00</td>\n    </tr>\n    <tr>\n      <th>2012-01-01 07:00:00</th>\n      <td>2,719.00</td>\n      <td>29.00</td>\n    </tr>\n    <tr>\n      <th>2012-01-01 08:00:00</th>\n      <td>2,916.00</td>\n      <td>29.00</td>\n    </tr>\n    <tr>\n      <th>2012-01-01 09:00:00</th>\n      <td>3,105.00</td>\n      <td>33.33</td>\n    </tr>\n  </tbody>\n</table>\n</div>"
     },
     "execution_count": 1,
     "metadata": {},
     "output_type": "execute_result"
    }
   ],
   "source": [
    "import os\n",
    "import pandas as pd\n",
    "import numpy as np\n",
    "from common.utils import load_data, extract_data\n",
    "# adjust the format of the data set\n",
    "# os.chdir(\"../../\")\n",
    "pd.options.display.float_format = '{:,.2f}'.format\n",
    "np.set_printoptions(precision=2)\n",
    "data_dir = \"data\"\n",
    "# if not done already, extract zipped data and save as csv\n",
    "ts_data = load_data(data_dir)\n",
    "\n",
    "ts_data.head(10) "
   ]
  },
  {
   "cell_type": "code",
   "execution_count": 2,
   "outputs": [
    {
     "data": {
      "text/plain": "load    0\ntemp    0\ndtype: int64"
     },
     "execution_count": 2,
     "metadata": {},
     "output_type": "execute_result"
    }
   ],
   "source": [
    "from scipy import stats\n",
    "temp_mode = stats.mode(ts_data['temp']).mode.item()\n",
    "ts_data['temp'] = ts_data['temp'].fillna(temp_mode)\n",
    "ts_data.isnull().sum()"
   ],
   "metadata": {
    "collapsed": false,
    "ExecuteTime": {
     "end_time": "2023-11-09T18:44:40.434409300Z",
     "start_time": "2023-11-09T18:44:39.528613100Z"
    }
   },
   "id": "135b144fec657891"
  },
  {
   "cell_type": "code",
   "execution_count": 3,
   "outputs": [
    {
     "data": {
      "text/plain": "array([[2698.],\n       [2558.],\n       [2444.],\n       ...,\n       [3671.],\n       [3499.],\n       [3345.]])"
     },
     "execution_count": 3,
     "metadata": {},
     "output_type": "execute_result"
    }
   ],
   "source": [
    "# Below is an example of normalizing the ts_data set: as the example shows, the\n",
    "# scaler requires data to be provided as a matrix of rows and columns. The load\n",
    "# data is loaded as a pandas DataFrame. It must then be reshaped into a matrix\n",
    "# of one column:\n",
    "\n",
    "from pandas import Series\n",
    "from sklearn.preprocessing import MinMaxScaler\n",
    "# prepare data for normalization\n",
    "\n",
    "values = ts_data['load'].values\n",
    "values = values.reshape((len(values), 1))\n",
    "# train the normalization\n",
    "# scaler = MinMaxScaler(feature_range=(0, 1))\n",
    "# scaler = scaler.fit(values)\n",
    "# print('Min: %f, Max: %f' % (scaler.data_min_, scaler.data_max_))\n",
    "values"
   ],
   "metadata": {
    "collapsed": false,
    "ExecuteTime": {
     "end_time": "2023-11-09T18:44:57.629658500Z",
     "start_time": "2023-11-09T18:44:57.448908200Z"
    }
   },
   "id": "2a6abc2c46bb8dce"
  },
  {
   "cell_type": "code",
   "execution_count": 4,
   "outputs": [
    {
     "name": "stdout",
     "output_type": "stream",
     "text": [
      "Min: 1979.000000, Max: 5224.000000\n"
     ]
    },
    {
     "name": "stderr",
     "output_type": "stream",
     "text": [
      "C:\\Users\\nishaalnaseer\\AppData\\Local\\Temp\\ipykernel_132\\1374553971.py:4: DeprecationWarning: Conversion of an array with ndim > 0 to a scalar is deprecated, and will error in future. Ensure you extract a single element from your array before performing this operation. (Deprecated NumPy 1.25.)\n",
      "  print('Min: %f, Max: %f' % (scaler.data_min_, scaler.data_max_))\n"
     ]
    }
   ],
   "source": [
    "# train the normalization\n",
    "scaler = MinMaxScaler(feature_range=(0, 1))\n",
    "scaler = scaler.fit(values)\n",
    "print('Min: %f, Max: %f' % (scaler.data_min_, scaler.data_max_))\n"
   ],
   "metadata": {
    "collapsed": false,
    "ExecuteTime": {
     "end_time": "2023-11-09T18:45:20.537717900Z",
     "start_time": "2023-11-09T18:45:20.463570600Z"
    }
   },
   "id": "c2e162d2676ba0cb"
  },
  {
   "cell_type": "code",
   "execution_count": 5,
   "outputs": [
    {
     "name": "stdout",
     "output_type": "stream",
     "text": [
      "[0.22]\n",
      "[0.18]\n",
      "[0.14]\n",
      "[0.13]\n",
      "[0.13]\n"
     ]
    }
   ],
   "source": [
    "# normalize the data set and print the first 5 rows\n",
    "normalized = scaler.transform(values)\n",
    "for i in range(5):\n",
    "    print(normalized[i])"
   ],
   "metadata": {
    "collapsed": false,
    "ExecuteTime": {
     "end_time": "2023-11-09T18:45:31.989760100Z",
     "start_time": "2023-11-09T18:45:31.918956700Z"
    }
   },
   "id": "d11ddfd65194b607"
  },
  {
   "cell_type": "code",
   "execution_count": 7,
   "outputs": [
    {
     "name": "stdout",
     "output_type": "stream",
     "text": [
      "[2698.]\n",
      "[2558.]\n",
      "[2444.]\n",
      "[2402.]\n",
      "[2403.]\n"
     ]
    }
   ],
   "source": [
    "# transform it back\n",
    "inversed = scaler.inverse_transform(normalized) \n",
    "for i in range(5):\n",
    "    print(inversed[i])"
   ],
   "metadata": {
    "collapsed": false,
    "ExecuteTime": {
     "end_time": "2023-11-09T18:47:13.271605400Z",
     "start_time": "2023-11-09T18:47:13.239890300Z"
    }
   },
   "id": "256346f2ef343e9"
  },
  {
   "cell_type": "code",
   "execution_count": 8,
   "outputs": [],
   "source": [
    "# Standardize time series data\n",
    "from sklearn.preprocessing import StandardScaler\n",
    "from math import sqrt"
   ],
   "metadata": {
    "collapsed": false,
    "ExecuteTime": {
     "end_time": "2023-11-09T20:10:16.684315400Z",
     "start_time": "2023-11-09T20:10:16.684315400Z"
    }
   },
   "id": "50ea8c128a497669"
  },
  {
   "cell_type": "code",
   "execution_count": 9,
   "outputs": [
    {
     "name": "stdout",
     "output_type": "stream",
     "text": [
      "Mean: 3303.769199, StandardDeviation: 564.568521\n"
     ]
    },
    {
     "name": "stderr",
     "output_type": "stream",
     "text": [
      "C:\\Users\\nishaalnaseer\\AppData\\Local\\Temp\\ipykernel_132\\3307109292.py:7: DeprecationWarning: Conversion of an array with ndim > 0 to a scalar is deprecated, and will error in future. Ensure you extract a single element from your array before performing this operation. (Deprecated NumPy 1.25.)\n",
      "  print('Mean: %f, StandardDeviation: %f' % (scaler.mean_, sqrt(scaler.var_)))\n"
     ]
    }
   ],
   "source": [
    "# prepare data for standardization\n",
    "values = ts_data['load'].values\n",
    "values = values.reshape((len(values), 1))\n",
    "# train the standardization\n",
    "scaler = StandardScaler()\n",
    "scaler = scaler.fit(values)\n",
    "print('Mean: %f, StandardDeviation: %f' % (scaler.mean_, sqrt(scaler.var_)))"
   ],
   "metadata": {
    "collapsed": false,
    "ExecuteTime": {
     "end_time": "2023-11-09T20:11:57.449303600Z",
     "start_time": "2023-11-09T20:11:57.407390100Z"
    }
   },
   "id": "e9fefdd2f3ee28f0"
  },
  {
   "cell_type": "code",
   "execution_count": 11,
   "outputs": [
    {
     "name": "stdout",
     "output_type": "stream",
     "text": [
      "[-1.07]\n",
      "[-1.32]\n",
      "[-1.52]\n",
      "[-1.6]\n",
      "[-1.6]\n"
     ]
    }
   ],
   "source": [
    "normalized = scaler.transform(values)\n",
    "for i in range(5):\n",
    "    print(normalized[i])"
   ],
   "metadata": {
    "collapsed": false,
    "ExecuteTime": {
     "end_time": "2023-11-09T20:26:58.639525300Z",
     "start_time": "2023-11-09T20:26:58.609150700Z"
    }
   },
   "id": "54adb3ffff157825"
  },
  {
   "cell_type": "code",
   "execution_count": 12,
   "outputs": [
    {
     "name": "stdout",
     "output_type": "stream",
     "text": [
      "[2698.]\n",
      "[2558.]\n",
      "[2444.]\n",
      "[2402.]\n",
      "[2403.]\n"
     ]
    }
   ],
   "source": [
    "# inverse transform and print the first 5 rows\n",
    "inversed = scaler.inverse_transform(normalized)\n",
    "for i in range(5):\n",
    "    print(inversed[i])"
   ],
   "metadata": {
    "collapsed": false,
    "ExecuteTime": {
     "end_time": "2023-11-09T20:27:08.096900600Z",
     "start_time": "2023-11-09T20:27:08.083064900Z"
    }
   },
   "id": "f164df45a803ecf1"
  }
 ],
 "metadata": {
  "kernelspec": {
   "display_name": "Python 3",
   "language": "python",
   "name": "python3"
  },
  "language_info": {
   "codemirror_mode": {
    "name": "ipython",
    "version": 2
   },
   "file_extension": ".py",
   "mimetype": "text/x-python",
   "name": "python",
   "nbconvert_exporter": "python",
   "pygments_lexer": "ipython2",
   "version": "2.7.6"
  }
 },
 "nbformat": 4,
 "nbformat_minor": 5
}
