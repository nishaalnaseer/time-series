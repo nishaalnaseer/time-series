{
 "cells": [
  {
   "cell_type": "code",
   "execution_count": 57,
   "id": "initial_id",
   "metadata": {
    "collapsed": true,
    "ExecuteTime": {
     "end_time": "2023-11-08T15:51:53.136529700Z",
     "start_time": "2023-11-08T15:51:53.100355200Z"
    }
   },
   "outputs": [],
   "source": [
    "import os\n",
    "import pandas as pd\n",
    "import numpy as np\n",
    "from common.utils import load_data, extract_data"
   ]
  },
  {
   "cell_type": "code",
   "execution_count": 58,
   "outputs": [],
   "source": [
    "# adjust the format of the data set\n",
    "pd.options.display.float_format = '{:,.2f}'.format\n",
    "np.set_printoptions(precision=2)"
   ],
   "metadata": {
    "collapsed": false,
    "ExecuteTime": {
     "end_time": "2023-11-08T15:51:53.141530500Z",
     "start_time": "2023-11-08T15:51:53.109326700Z"
    }
   },
   "id": "f2f1ca063e009ce"
  },
  {
   "cell_type": "code",
   "execution_count": 59,
   "outputs": [],
   "source": [
    "data_dir = \"data\"\n",
    "# if not done already, extract zipped data and save as csv\n",
    "extract_data(data_dir)"
   ],
   "metadata": {
    "collapsed": false,
    "ExecuteTime": {
     "end_time": "2023-11-08T15:52:00.409500700Z",
     "start_time": "2023-11-08T15:51:53.119360Z"
    }
   },
   "id": "9c08e7b5c479eaf0"
  },
  {
   "cell_type": "code",
   "execution_count": 60,
   "outputs": [
    {
     "data": {
      "text/plain": "                        load\n2012-01-01 00:00:00 2,698.00\n2012-01-01 01:00:00 2,558.00\n2012-01-01 02:00:00 2,444.00\n2012-01-01 03:00:00 2,402.00\n2012-01-01 04:00:00 2,403.00",
      "text/html": "<div>\n<style scoped>\n    .dataframe tbody tr th:only-of-type {\n        vertical-align: middle;\n    }\n\n    .dataframe tbody tr th {\n        vertical-align: top;\n    }\n\n    .dataframe thead th {\n        text-align: right;\n    }\n</style>\n<table border=\"1\" class=\"dataframe\">\n  <thead>\n    <tr style=\"text-align: right;\">\n      <th></th>\n      <th>load</th>\n    </tr>\n  </thead>\n  <tbody>\n    <tr>\n      <th>2012-01-01 00:00:00</th>\n      <td>2,698.00</td>\n    </tr>\n    <tr>\n      <th>2012-01-01 01:00:00</th>\n      <td>2,558.00</td>\n    </tr>\n    <tr>\n      <th>2012-01-01 02:00:00</th>\n      <td>2,444.00</td>\n    </tr>\n    <tr>\n      <th>2012-01-01 03:00:00</th>\n      <td>2,402.00</td>\n    </tr>\n    <tr>\n      <th>2012-01-01 04:00:00</th>\n      <td>2,403.00</td>\n    </tr>\n  </tbody>\n</table>\n</div>"
     },
     "execution_count": 60,
     "metadata": {},
     "output_type": "execute_result"
    }
   ],
   "source": [
    "ts_data_load = load_data(data_dir)[['load']]\n",
    "ts_data_load.head()"
   ],
   "metadata": {
    "collapsed": false,
    "ExecuteTime": {
     "end_time": "2023-11-08T15:52:00.604632400Z",
     "start_time": "2023-11-08T15:52:00.413498400Z"
    }
   },
   "id": "e949894bd8fb453b"
  },
  {
   "cell_type": "code",
   "execution_count": 61,
   "outputs": [
    {
     "data": {
      "text/plain": "DatetimeIndex(['2012-01-01 00:00:00', '2012-01-01 01:00:00',\n               '2012-01-01 02:00:00', '2012-01-01 03:00:00',\n               '2012-01-01 04:00:00', '2012-01-01 05:00:00',\n               '2012-01-01 06:00:00', '2012-01-01 07:00:00',\n               '2012-01-01 08:00:00', '2012-01-01 09:00:00',\n               ...\n               '2014-12-31 14:00:00', '2014-12-31 15:00:00',\n               '2014-12-31 16:00:00', '2014-12-31 17:00:00',\n               '2014-12-31 18:00:00', '2014-12-31 19:00:00',\n               '2014-12-31 20:00:00', '2014-12-31 21:00:00',\n               '2014-12-31 22:00:00', '2014-12-31 23:00:00'],\n              dtype='datetime64[ns]', length=26304, freq='H')"
     },
     "execution_count": 61,
     "metadata": {},
     "output_type": "execute_result"
    }
   ],
   "source": [
    "ts_data_load.index"
   ],
   "metadata": {
    "collapsed": false,
    "ExecuteTime": {
     "end_time": "2023-11-08T15:52:00.606756900Z",
     "start_time": "2023-11-08T15:52:00.596627700Z"
    }
   },
   "id": "4ed56f13ed45be6a"
  },
  {
   "cell_type": "code",
   "execution_count": 62,
   "outputs": [
    {
     "data": {
      "text/plain": "DatetimeIndex(['2012-01-01 00:00:00', '2012-01-01 01:00:00',\n               '2012-01-01 02:00:00', '2012-01-01 03:00:00',\n               '2012-01-01 04:00:00'],\n              dtype='datetime64[ns]', freq='H')"
     },
     "execution_count": 62,
     "metadata": {},
     "output_type": "execute_result"
    }
   ],
   "source": [
    "#Now let’s slice our ts_data set to access only specific parts of time sequences:\n",
    "ts_data_load[:5].index"
   ],
   "metadata": {
    "collapsed": false,
    "ExecuteTime": {
     "end_time": "2023-11-08T15:52:00.624395600Z",
     "start_time": "2023-11-08T15:52:00.607758200Z"
    }
   },
   "id": "d2733cb2e53c8ed2"
  },
  {
   "cell_type": "code",
   "execution_count": 68,
   "outputs": [
    {
     "data": {
      "text/plain": "DatetimeIndex(['2012-01-01 00:00:00', '2012-01-01 02:00:00',\n               '2012-01-01 04:00:00', '2012-01-01 06:00:00',\n               '2012-01-01 08:00:00', '2012-01-01 10:00:00',\n               '2012-01-01 12:00:00', '2012-01-01 14:00:00',\n               '2012-01-01 16:00:00', '2012-01-01 18:00:00',\n               ...\n               '2014-12-31 04:00:00', '2014-12-31 06:00:00',\n               '2014-12-31 08:00:00', '2014-12-31 10:00:00',\n               '2014-12-31 12:00:00', '2014-12-31 14:00:00',\n               '2014-12-31 16:00:00', '2014-12-31 18:00:00',\n               '2014-12-31 20:00:00', '2014-12-31 22:00:00'],\n              dtype='datetime64[ns]', length=13152, freq='2H')"
     },
     "execution_count": 68,
     "metadata": {},
     "output_type": "execute_result"
    }
   ],
   "source": [
    "ts_data_load[::2].index"
   ],
   "metadata": {
    "collapsed": false,
    "ExecuteTime": {
     "end_time": "2023-11-08T16:04:31.398131300Z",
     "start_time": "2023-11-08T16:04:31.380284300Z"
    }
   },
   "id": "ab63f0f53c78ef65"
  },
  {
   "cell_type": "code",
   "execution_count": 79,
   "outputs": [
    {
     "data": {
      "text/plain": "                        load\n2012-01-01 00:00:00 2,698.00\n2012-01-01 01:00:00 2,558.00\n2012-01-01 02:00:00 2,444.00\n2012-01-01 03:00:00 2,402.00\n2012-01-01 04:00:00 2,403.00\n2012-01-01 05:00:00 2,453.00\n2012-01-01 06:00:00 2,560.00\n2012-01-01 07:00:00 2,719.00\n2012-01-01 08:00:00 2,916.00\n2012-01-01 09:00:00 3,105.00\n2012-01-01 10:00:00 3,174.00\n2012-01-01 11:00:00 3,180.00\n2012-01-01 12:00:00 3,184.00\n2012-01-01 13:00:00 3,147.00\n2012-01-01 14:00:00 3,122.00\n2012-01-01 15:00:00 3,137.00\n2012-01-01 16:00:00 3,486.00\n2012-01-01 17:00:00 3,717.00\n2012-01-01 18:00:00 3,659.00\n2012-01-01 19:00:00 3,513.00\n2012-01-01 20:00:00 3,344.00\n2012-01-01 21:00:00 3,129.00\n2012-01-01 22:00:00 2,873.00\n2012-01-01 23:00:00 2,639.00",
      "text/html": "<div>\n<style scoped>\n    .dataframe tbody tr th:only-of-type {\n        vertical-align: middle;\n    }\n\n    .dataframe tbody tr th {\n        vertical-align: top;\n    }\n\n    .dataframe thead th {\n        text-align: right;\n    }\n</style>\n<table border=\"1\" class=\"dataframe\">\n  <thead>\n    <tr style=\"text-align: right;\">\n      <th></th>\n      <th>load</th>\n    </tr>\n  </thead>\n  <tbody>\n    <tr>\n      <th>2012-01-01 00:00:00</th>\n      <td>2,698.00</td>\n    </tr>\n    <tr>\n      <th>2012-01-01 01:00:00</th>\n      <td>2,558.00</td>\n    </tr>\n    <tr>\n      <th>2012-01-01 02:00:00</th>\n      <td>2,444.00</td>\n    </tr>\n    <tr>\n      <th>2012-01-01 03:00:00</th>\n      <td>2,402.00</td>\n    </tr>\n    <tr>\n      <th>2012-01-01 04:00:00</th>\n      <td>2,403.00</td>\n    </tr>\n    <tr>\n      <th>2012-01-01 05:00:00</th>\n      <td>2,453.00</td>\n    </tr>\n    <tr>\n      <th>2012-01-01 06:00:00</th>\n      <td>2,560.00</td>\n    </tr>\n    <tr>\n      <th>2012-01-01 07:00:00</th>\n      <td>2,719.00</td>\n    </tr>\n    <tr>\n      <th>2012-01-01 08:00:00</th>\n      <td>2,916.00</td>\n    </tr>\n    <tr>\n      <th>2012-01-01 09:00:00</th>\n      <td>3,105.00</td>\n    </tr>\n    <tr>\n      <th>2012-01-01 10:00:00</th>\n      <td>3,174.00</td>\n    </tr>\n    <tr>\n      <th>2012-01-01 11:00:00</th>\n      <td>3,180.00</td>\n    </tr>\n    <tr>\n      <th>2012-01-01 12:00:00</th>\n      <td>3,184.00</td>\n    </tr>\n    <tr>\n      <th>2012-01-01 13:00:00</th>\n      <td>3,147.00</td>\n    </tr>\n    <tr>\n      <th>2012-01-01 14:00:00</th>\n      <td>3,122.00</td>\n    </tr>\n    <tr>\n      <th>2012-01-01 15:00:00</th>\n      <td>3,137.00</td>\n    </tr>\n    <tr>\n      <th>2012-01-01 16:00:00</th>\n      <td>3,486.00</td>\n    </tr>\n    <tr>\n      <th>2012-01-01 17:00:00</th>\n      <td>3,717.00</td>\n    </tr>\n    <tr>\n      <th>2012-01-01 18:00:00</th>\n      <td>3,659.00</td>\n    </tr>\n    <tr>\n      <th>2012-01-01 19:00:00</th>\n      <td>3,513.00</td>\n    </tr>\n    <tr>\n      <th>2012-01-01 20:00:00</th>\n      <td>3,344.00</td>\n    </tr>\n    <tr>\n      <th>2012-01-01 21:00:00</th>\n      <td>3,129.00</td>\n    </tr>\n    <tr>\n      <th>2012-01-01 22:00:00</th>\n      <td>2,873.00</td>\n    </tr>\n    <tr>\n      <th>2012-01-01 23:00:00</th>\n      <td>2,639.00</td>\n    </tr>\n  </tbody>\n</table>\n</div>"
     },
     "execution_count": 79,
     "metadata": {},
     "output_type": "execute_result"
    }
   ],
   "source": [
    "# To provide convenience for accessing longer time series, \n",
    "# you can also pass in the year or year and month as strings:\n",
    "ts_data_load.loc['2012-01-01']"
   ],
   "metadata": {
    "collapsed": false,
    "ExecuteTime": {
     "end_time": "2023-11-08T16:22:59.772668400Z",
     "start_time": "2023-11-08T16:22:59.740443500Z"
    }
   },
   "id": "ce925e1644a80286"
  },
  {
   "cell_type": "code",
   "execution_count": 80,
   "outputs": [
    {
     "data": {
      "text/plain": "                        load\n2012-01-01 00:00:00 2,698.00\n2012-01-01 01:00:00 2,558.00\n2012-01-01 02:00:00 2,444.00\n2012-01-01 03:00:00 2,402.00\n2012-01-01 04:00:00 2,403.00\n...                      ...\n2012-02-28 19:00:00 3,858.00\n2012-02-28 20:00:00 3,687.00\n2012-02-28 21:00:00 3,420.00\n2012-02-28 22:00:00 3,122.00\n2012-02-28 23:00:00 2,875.00\n\n[1416 rows x 1 columns]",
      "text/html": "<div>\n<style scoped>\n    .dataframe tbody tr th:only-of-type {\n        vertical-align: middle;\n    }\n\n    .dataframe tbody tr th {\n        vertical-align: top;\n    }\n\n    .dataframe thead th {\n        text-align: right;\n    }\n</style>\n<table border=\"1\" class=\"dataframe\">\n  <thead>\n    <tr style=\"text-align: right;\">\n      <th></th>\n      <th>load</th>\n    </tr>\n  </thead>\n  <tbody>\n    <tr>\n      <th>2012-01-01 00:00:00</th>\n      <td>2,698.00</td>\n    </tr>\n    <tr>\n      <th>2012-01-01 01:00:00</th>\n      <td>2,558.00</td>\n    </tr>\n    <tr>\n      <th>2012-01-01 02:00:00</th>\n      <td>2,444.00</td>\n    </tr>\n    <tr>\n      <th>2012-01-01 03:00:00</th>\n      <td>2,402.00</td>\n    </tr>\n    <tr>\n      <th>2012-01-01 04:00:00</th>\n      <td>2,403.00</td>\n    </tr>\n    <tr>\n      <th>...</th>\n      <td>...</td>\n    </tr>\n    <tr>\n      <th>2012-02-28 19:00:00</th>\n      <td>3,858.00</td>\n    </tr>\n    <tr>\n      <th>2012-02-28 20:00:00</th>\n      <td>3,687.00</td>\n    </tr>\n    <tr>\n      <th>2012-02-28 21:00:00</th>\n      <td>3,420.00</td>\n    </tr>\n    <tr>\n      <th>2012-02-28 22:00:00</th>\n      <td>3,122.00</td>\n    </tr>\n    <tr>\n      <th>2012-02-28 23:00:00</th>\n      <td>2,875.00</td>\n    </tr>\n  </tbody>\n</table>\n<p>1416 rows × 1 columns</p>\n</div>"
     },
     "execution_count": 80,
     "metadata": {},
     "output_type": "execute_result"
    }
   ],
   "source": [
    "ts_data_load.loc['2012-1':'2012-2-28']"
   ],
   "metadata": {
    "collapsed": false,
    "ExecuteTime": {
     "end_time": "2023-11-08T16:25:20.291577200Z",
     "start_time": "2023-11-08T16:25:20.264914400Z"
    }
   },
   "id": "7ffd1590b98c9b5a"
  },
  {
   "cell_type": "code",
   "execution_count": 81,
   "outputs": [
    {
     "data": {
      "text/plain": "                        load\n2012-01-01 00:00:00 2,698.00\n2012-01-01 01:00:00 2,558.00\n2012-01-01 02:00:00 2,444.00\n2012-01-01 03:00:00 2,402.00\n2012-01-01 04:00:00 2,403.00\n2012-01-01 05:00:00 2,453.00\n2012-01-01 06:00:00 2,560.00\n2012-01-01 07:00:00 2,719.00\n2012-01-01 08:00:00 2,916.00\n2012-01-01 09:00:00 3,105.00\n2012-01-01 10:00:00 3,174.00\n2012-01-01 11:00:00 3,180.00\n2012-01-01 12:00:00 3,184.00\n2012-01-01 13:00:00 3,147.00\n2012-01-01 14:00:00 3,122.00\n2012-01-01 15:00:00 3,137.00\n2012-01-01 16:00:00 3,486.00\n2012-01-01 17:00:00 3,717.00\n2012-01-01 18:00:00 3,659.00\n2012-01-01 19:00:00 3,513.00\n2012-01-01 20:00:00 3,344.00\n2012-01-01 21:00:00 3,129.00\n2012-01-01 22:00:00 2,873.00\n2012-01-01 23:00:00 2,639.00\n2012-01-02 00:00:00 2,458.00",
      "text/html": "<div>\n<style scoped>\n    .dataframe tbody tr th:only-of-type {\n        vertical-align: middle;\n    }\n\n    .dataframe tbody tr th {\n        vertical-align: top;\n    }\n\n    .dataframe thead th {\n        text-align: right;\n    }\n</style>\n<table border=\"1\" class=\"dataframe\">\n  <thead>\n    <tr style=\"text-align: right;\">\n      <th></th>\n      <th>load</th>\n    </tr>\n  </thead>\n  <tbody>\n    <tr>\n      <th>2012-01-01 00:00:00</th>\n      <td>2,698.00</td>\n    </tr>\n    <tr>\n      <th>2012-01-01 01:00:00</th>\n      <td>2,558.00</td>\n    </tr>\n    <tr>\n      <th>2012-01-01 02:00:00</th>\n      <td>2,444.00</td>\n    </tr>\n    <tr>\n      <th>2012-01-01 03:00:00</th>\n      <td>2,402.00</td>\n    </tr>\n    <tr>\n      <th>2012-01-01 04:00:00</th>\n      <td>2,403.00</td>\n    </tr>\n    <tr>\n      <th>2012-01-01 05:00:00</th>\n      <td>2,453.00</td>\n    </tr>\n    <tr>\n      <th>2012-01-01 06:00:00</th>\n      <td>2,560.00</td>\n    </tr>\n    <tr>\n      <th>2012-01-01 07:00:00</th>\n      <td>2,719.00</td>\n    </tr>\n    <tr>\n      <th>2012-01-01 08:00:00</th>\n      <td>2,916.00</td>\n    </tr>\n    <tr>\n      <th>2012-01-01 09:00:00</th>\n      <td>3,105.00</td>\n    </tr>\n    <tr>\n      <th>2012-01-01 10:00:00</th>\n      <td>3,174.00</td>\n    </tr>\n    <tr>\n      <th>2012-01-01 11:00:00</th>\n      <td>3,180.00</td>\n    </tr>\n    <tr>\n      <th>2012-01-01 12:00:00</th>\n      <td>3,184.00</td>\n    </tr>\n    <tr>\n      <th>2012-01-01 13:00:00</th>\n      <td>3,147.00</td>\n    </tr>\n    <tr>\n      <th>2012-01-01 14:00:00</th>\n      <td>3,122.00</td>\n    </tr>\n    <tr>\n      <th>2012-01-01 15:00:00</th>\n      <td>3,137.00</td>\n    </tr>\n    <tr>\n      <th>2012-01-01 16:00:00</th>\n      <td>3,486.00</td>\n    </tr>\n    <tr>\n      <th>2012-01-01 17:00:00</th>\n      <td>3,717.00</td>\n    </tr>\n    <tr>\n      <th>2012-01-01 18:00:00</th>\n      <td>3,659.00</td>\n    </tr>\n    <tr>\n      <th>2012-01-01 19:00:00</th>\n      <td>3,513.00</td>\n    </tr>\n    <tr>\n      <th>2012-01-01 20:00:00</th>\n      <td>3,344.00</td>\n    </tr>\n    <tr>\n      <th>2012-01-01 21:00:00</th>\n      <td>3,129.00</td>\n    </tr>\n    <tr>\n      <th>2012-01-01 22:00:00</th>\n      <td>2,873.00</td>\n    </tr>\n    <tr>\n      <th>2012-01-01 23:00:00</th>\n      <td>2,639.00</td>\n    </tr>\n    <tr>\n      <th>2012-01-02 00:00:00</th>\n      <td>2,458.00</td>\n    </tr>\n  </tbody>\n</table>\n</div>"
     },
     "execution_count": 81,
     "metadata": {},
     "output_type": "execute_result"
    }
   ],
   "source": [
    "ts_data_load.loc['2012-1':'2012-1-2 00:00:00']\n"
   ],
   "metadata": {
    "collapsed": false,
    "ExecuteTime": {
     "end_time": "2023-11-08T16:26:02.817067200Z",
     "start_time": "2023-11-08T16:26:02.775519200Z"
    }
   },
   "id": "e3435f5ac55898c1"
  },
  {
   "cell_type": "code",
   "execution_count": 82,
   "outputs": [
    {
     "data": {
      "text/plain": "                        load\n2013-11-01 00:00:00 2,506.00\n2013-11-01 01:00:00 2,419.00\n2013-11-01 02:00:00 2,369.00\n2013-11-01 03:00:00 2,349.00\n2013-11-01 04:00:00 2,425.00\n2013-11-01 05:00:00 2,671.00\n2013-11-01 06:00:00 3,143.00\n2013-11-01 07:00:00 3,438.00\n2013-11-01 08:00:00 3,486.00\n2013-11-01 09:00:00 3,541.00\n2013-11-01 10:00:00 3,591.00\n2013-11-01 11:00:00 3,585.00\n2013-11-01 12:00:00 3,532.00\n2013-11-01 13:00:00 3,491.00\n2013-11-01 14:00:00 3,430.00\n2013-11-01 15:00:00 3,358.00\n2013-11-01 16:00:00 3,347.00\n2013-11-01 17:00:00 3,478.00\n2013-11-01 18:00:00 3,636.00\n2013-11-01 19:00:00 3,501.00\n2013-11-01 20:00:00 3,345.00\n2013-11-01 21:00:00 3,131.00\n2013-11-01 22:00:00 2,883.00\n2013-11-01 23:00:00 2,626.00\n2013-11-02 00:00:00 2,447.00",
      "text/html": "<div>\n<style scoped>\n    .dataframe tbody tr th:only-of-type {\n        vertical-align: middle;\n    }\n\n    .dataframe tbody tr th {\n        vertical-align: top;\n    }\n\n    .dataframe thead th {\n        text-align: right;\n    }\n</style>\n<table border=\"1\" class=\"dataframe\">\n  <thead>\n    <tr style=\"text-align: right;\">\n      <th></th>\n      <th>load</th>\n    </tr>\n  </thead>\n  <tbody>\n    <tr>\n      <th>2013-11-01 00:00:00</th>\n      <td>2,506.00</td>\n    </tr>\n    <tr>\n      <th>2013-11-01 01:00:00</th>\n      <td>2,419.00</td>\n    </tr>\n    <tr>\n      <th>2013-11-01 02:00:00</th>\n      <td>2,369.00</td>\n    </tr>\n    <tr>\n      <th>2013-11-01 03:00:00</th>\n      <td>2,349.00</td>\n    </tr>\n    <tr>\n      <th>2013-11-01 04:00:00</th>\n      <td>2,425.00</td>\n    </tr>\n    <tr>\n      <th>2013-11-01 05:00:00</th>\n      <td>2,671.00</td>\n    </tr>\n    <tr>\n      <th>2013-11-01 06:00:00</th>\n      <td>3,143.00</td>\n    </tr>\n    <tr>\n      <th>2013-11-01 07:00:00</th>\n      <td>3,438.00</td>\n    </tr>\n    <tr>\n      <th>2013-11-01 08:00:00</th>\n      <td>3,486.00</td>\n    </tr>\n    <tr>\n      <th>2013-11-01 09:00:00</th>\n      <td>3,541.00</td>\n    </tr>\n    <tr>\n      <th>2013-11-01 10:00:00</th>\n      <td>3,591.00</td>\n    </tr>\n    <tr>\n      <th>2013-11-01 11:00:00</th>\n      <td>3,585.00</td>\n    </tr>\n    <tr>\n      <th>2013-11-01 12:00:00</th>\n      <td>3,532.00</td>\n    </tr>\n    <tr>\n      <th>2013-11-01 13:00:00</th>\n      <td>3,491.00</td>\n    </tr>\n    <tr>\n      <th>2013-11-01 14:00:00</th>\n      <td>3,430.00</td>\n    </tr>\n    <tr>\n      <th>2013-11-01 15:00:00</th>\n      <td>3,358.00</td>\n    </tr>\n    <tr>\n      <th>2013-11-01 16:00:00</th>\n      <td>3,347.00</td>\n    </tr>\n    <tr>\n      <th>2013-11-01 17:00:00</th>\n      <td>3,478.00</td>\n    </tr>\n    <tr>\n      <th>2013-11-01 18:00:00</th>\n      <td>3,636.00</td>\n    </tr>\n    <tr>\n      <th>2013-11-01 19:00:00</th>\n      <td>3,501.00</td>\n    </tr>\n    <tr>\n      <th>2013-11-01 20:00:00</th>\n      <td>3,345.00</td>\n    </tr>\n    <tr>\n      <th>2013-11-01 21:00:00</th>\n      <td>3,131.00</td>\n    </tr>\n    <tr>\n      <th>2013-11-01 22:00:00</th>\n      <td>2,883.00</td>\n    </tr>\n    <tr>\n      <th>2013-11-01 23:00:00</th>\n      <td>2,626.00</td>\n    </tr>\n    <tr>\n      <th>2013-11-02 00:00:00</th>\n      <td>2,447.00</td>\n    </tr>\n  </tbody>\n</table>\n</div>"
     },
     "execution_count": 82,
     "metadata": {},
     "output_type": "execute_result"
    }
   ],
   "source": [
    "ts_data_load.truncate(before='2013-11-01', after='2013-11-02')"
   ],
   "metadata": {
    "collapsed": false,
    "ExecuteTime": {
     "end_time": "2023-11-08T16:27:36.623816200Z",
     "start_time": "2023-11-08T16:27:36.520108200Z"
    }
   },
   "id": "dcdfa8ce04382e80"
  },
  {
   "cell_type": "code",
   "execution_count": null,
   "outputs": [],
   "source": [],
   "metadata": {
    "collapsed": false
   },
   "id": "d0e4d783a095aef4"
  }
 ],
 "metadata": {
  "kernelspec": {
   "display_name": "Python 3",
   "language": "python",
   "name": "python3"
  },
  "language_info": {
   "codemirror_mode": {
    "name": "ipython",
    "version": 2
   },
   "file_extension": ".py",
   "mimetype": "text/x-python",
   "name": "python",
   "nbconvert_exporter": "python",
   "pygments_lexer": "ipython2",
   "version": "2.7.6"
  }
 },
 "nbformat": 4,
 "nbformat_minor": 5
}
