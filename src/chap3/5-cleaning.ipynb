{
 "cells": [
  {
   "cell_type": "code",
   "execution_count": 8,
   "id": "initial_id",
   "metadata": {
    "collapsed": true,
    "ExecuteTime": {
     "end_time": "2023-11-09T12:25:28.774692800Z",
     "start_time": "2023-11-09T12:25:28.591123900Z"
    }
   },
   "outputs": [
    {
     "data": {
      "text/plain": "                        load  temp\n2012-01-01 00:00:00 2,698.00 32.00\n2012-01-01 01:00:00 2,558.00 32.67\n2012-01-01 02:00:00 2,444.00 30.00\n2012-01-01 03:00:00 2,402.00 31.00\n2012-01-01 04:00:00 2,403.00 32.00\n2012-01-01 05:00:00 2,453.00 31.33\n2012-01-01 06:00:00 2,560.00 30.00\n2012-01-01 07:00:00 2,719.00 29.00\n2012-01-01 08:00:00 2,916.00 29.00\n2012-01-01 09:00:00 3,105.00 33.33",
      "text/html": "<div>\n<style scoped>\n    .dataframe tbody tr th:only-of-type {\n        vertical-align: middle;\n    }\n\n    .dataframe tbody tr th {\n        vertical-align: top;\n    }\n\n    .dataframe thead th {\n        text-align: right;\n    }\n</style>\n<table border=\"1\" class=\"dataframe\">\n  <thead>\n    <tr style=\"text-align: right;\">\n      <th></th>\n      <th>load</th>\n      <th>temp</th>\n    </tr>\n  </thead>\n  <tbody>\n    <tr>\n      <th>2012-01-01 00:00:00</th>\n      <td>2,698.00</td>\n      <td>32.00</td>\n    </tr>\n    <tr>\n      <th>2012-01-01 01:00:00</th>\n      <td>2,558.00</td>\n      <td>32.67</td>\n    </tr>\n    <tr>\n      <th>2012-01-01 02:00:00</th>\n      <td>2,444.00</td>\n      <td>30.00</td>\n    </tr>\n    <tr>\n      <th>2012-01-01 03:00:00</th>\n      <td>2,402.00</td>\n      <td>31.00</td>\n    </tr>\n    <tr>\n      <th>2012-01-01 04:00:00</th>\n      <td>2,403.00</td>\n      <td>32.00</td>\n    </tr>\n    <tr>\n      <th>2012-01-01 05:00:00</th>\n      <td>2,453.00</td>\n      <td>31.33</td>\n    </tr>\n    <tr>\n      <th>2012-01-01 06:00:00</th>\n      <td>2,560.00</td>\n      <td>30.00</td>\n    </tr>\n    <tr>\n      <th>2012-01-01 07:00:00</th>\n      <td>2,719.00</td>\n      <td>29.00</td>\n    </tr>\n    <tr>\n      <th>2012-01-01 08:00:00</th>\n      <td>2,916.00</td>\n      <td>29.00</td>\n    </tr>\n    <tr>\n      <th>2012-01-01 09:00:00</th>\n      <td>3,105.00</td>\n      <td>33.33</td>\n    </tr>\n  </tbody>\n</table>\n</div>"
     },
     "execution_count": 8,
     "metadata": {},
     "output_type": "execute_result"
    }
   ],
   "source": [
    "import os\n",
    "import pandas as pd\n",
    "import numpy as np\n",
    "from common.utils import load_data, extract_data\n",
    "# adjust the format of the data set\n",
    "# os.chdir(\"../../\")\n",
    "pd.options.display.float_format = '{:,.2f}'.format\n",
    "np.set_printoptions(precision=2)\n",
    "data_dir = \"data\"\n",
    "# if not done already, extract zipped data and save as csv\n",
    "ts_data = load_data(data_dir)\n",
    "\n",
    "ts_data.head(10) "
   ]
  },
  {
   "cell_type": "code",
   "execution_count": 9,
   "outputs": [
    {
     "data": {
      "text/plain": "                        load  temp\n2012-01-01 00:00:00 2,698.00 32.00\n2012-01-01 01:00:00 2,558.00 32.67\n2012-01-01 02:00:00 2,444.00 30.00\n2012-01-01 03:00:00 2,402.00 31.00\n2012-01-01 04:00:00 2,403.00 32.00\n...                      ...   ...\n2014-12-31 19:00:00 4,012.00 18.00\n2014-12-31 20:00:00 3,856.00 16.67\n2014-12-31 21:00:00 3,671.00 17.00\n2014-12-31 22:00:00 3,499.00 15.33\n2014-12-31 23:00:00 3,345.00 15.33\n\n[26304 rows x 2 columns]",
      "text/html": "<div>\n<style scoped>\n    .dataframe tbody tr th:only-of-type {\n        vertical-align: middle;\n    }\n\n    .dataframe tbody tr th {\n        vertical-align: top;\n    }\n\n    .dataframe thead th {\n        text-align: right;\n    }\n</style>\n<table border=\"1\" class=\"dataframe\">\n  <thead>\n    <tr style=\"text-align: right;\">\n      <th></th>\n      <th>load</th>\n      <th>temp</th>\n    </tr>\n  </thead>\n  <tbody>\n    <tr>\n      <th>2012-01-01 00:00:00</th>\n      <td>2,698.00</td>\n      <td>32.00</td>\n    </tr>\n    <tr>\n      <th>2012-01-01 01:00:00</th>\n      <td>2,558.00</td>\n      <td>32.67</td>\n    </tr>\n    <tr>\n      <th>2012-01-01 02:00:00</th>\n      <td>2,444.00</td>\n      <td>30.00</td>\n    </tr>\n    <tr>\n      <th>2012-01-01 03:00:00</th>\n      <td>2,402.00</td>\n      <td>31.00</td>\n    </tr>\n    <tr>\n      <th>2012-01-01 04:00:00</th>\n      <td>2,403.00</td>\n      <td>32.00</td>\n    </tr>\n    <tr>\n      <th>...</th>\n      <td>...</td>\n      <td>...</td>\n    </tr>\n    <tr>\n      <th>2014-12-31 19:00:00</th>\n      <td>4,012.00</td>\n      <td>18.00</td>\n    </tr>\n    <tr>\n      <th>2014-12-31 20:00:00</th>\n      <td>3,856.00</td>\n      <td>16.67</td>\n    </tr>\n    <tr>\n      <th>2014-12-31 21:00:00</th>\n      <td>3,671.00</td>\n      <td>17.00</td>\n    </tr>\n    <tr>\n      <th>2014-12-31 22:00:00</th>\n      <td>3,499.00</td>\n      <td>15.33</td>\n    </tr>\n    <tr>\n      <th>2014-12-31 23:00:00</th>\n      <td>3,345.00</td>\n      <td>15.33</td>\n    </tr>\n  </tbody>\n</table>\n<p>26304 rows × 2 columns</p>\n</div>"
     },
     "execution_count": 9,
     "metadata": {},
     "output_type": "execute_result"
    }
   ],
   "source": [
    "ts_data.interpolate(limit = 8, method ='linear', limit_direction='both')"
   ],
   "metadata": {
    "collapsed": false,
    "ExecuteTime": {
     "end_time": "2023-11-09T12:25:28.820442200Z",
     "start_time": "2023-11-09T12:25:28.768184500Z"
    }
   },
   "id": "33628f91e9e262e5"
  }
 ],
 "metadata": {
  "kernelspec": {
   "display_name": "Python 3",
   "language": "python",
   "name": "python3"
  },
  "language_info": {
   "codemirror_mode": {
    "name": "ipython",
    "version": 2
   },
   "file_extension": ".py",
   "mimetype": "text/x-python",
   "name": "python",
   "nbconvert_exporter": "python",
   "pygments_lexer": "ipython2",
   "version": "2.7.6"
  }
 },
 "nbformat": 4,
 "nbformat_minor": 5
}
