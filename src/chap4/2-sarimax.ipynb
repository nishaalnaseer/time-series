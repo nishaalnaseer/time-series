{
 "cells": [
  {
   "cell_type": "markdown",
   "source": [
    "#  Seasonal auto regressive integrated moving average with exogenous regressors model"
   ],
   "metadata": {
    "collapsed": false
   },
   "id": "a86201f457c9f0af"
  },
  {
   "cell_type": "code",
   "execution_count": 19,
   "outputs": [],
   "source": [
    "from statsmodels.tsa.statespace.sarimax import SARIMAX\n",
    "from sklearn.preprocessing import MinMaxScaler\n",
    "import math\n",
    "from common.utils import mape, load_data\n",
    "import os\n",
    "import pandas as pd\n",
    "import numpy as np"
   ],
   "metadata": {
    "collapsed": false,
    "ExecuteTime": {
     "end_time": "2024-01-06T22:27:14.207980100Z",
     "start_time": "2024-01-06T22:27:14.194044800Z"
    }
   },
   "id": "cfb962ee50f8cec"
  },
  {
   "cell_type": "code",
   "execution_count": 4,
   "outputs": [
    {
     "data": {
      "text/plain": "                       load\n2012-01-01 00:00:00  2698.0\n2012-01-01 01:00:00  2558.0\n2012-01-01 02:00:00  2444.0\n2012-01-01 03:00:00  2402.0\n2012-01-01 04:00:00  2403.0",
      "text/html": "<div>\n<style scoped>\n    .dataframe tbody tr th:only-of-type {\n        vertical-align: middle;\n    }\n\n    .dataframe tbody tr th {\n        vertical-align: top;\n    }\n\n    .dataframe thead th {\n        text-align: right;\n    }\n</style>\n<table border=\"1\" class=\"dataframe\">\n  <thead>\n    <tr style=\"text-align: right;\">\n      <th></th>\n      <th>load</th>\n    </tr>\n  </thead>\n  <tbody>\n    <tr>\n      <th>2012-01-01 00:00:00</th>\n      <td>2698.0</td>\n    </tr>\n    <tr>\n      <th>2012-01-01 01:00:00</th>\n      <td>2558.0</td>\n    </tr>\n    <tr>\n      <th>2012-01-01 02:00:00</th>\n      <td>2444.0</td>\n    </tr>\n    <tr>\n      <th>2012-01-01 03:00:00</th>\n      <td>2402.0</td>\n    </tr>\n    <tr>\n      <th>2012-01-01 04:00:00</th>\n      <td>2403.0</td>\n    </tr>\n  </tbody>\n</table>\n</div>"
     },
     "execution_count": 4,
     "metadata": {},
     "output_type": "execute_result"
    }
   ],
   "source": [
    "# os.chdir(\"../../\")\n",
    "data_dir = \"data\"\n",
    "# Load the data from csv into a pandas dataframe\n",
    "ts_data_load = load_data(data_dir)[['load']]\n",
    "ts_data_load.head()"
   ],
   "metadata": {
    "collapsed": false,
    "ExecuteTime": {
     "end_time": "2024-01-06T22:01:27.801418800Z",
     "start_time": "2024-01-06T22:01:27.627238300Z"
    }
   },
   "id": "d2404f7805fdf1c7"
  },
  {
   "cell_type": "code",
   "execution_count": 6,
   "outputs": [],
   "source": [
    "train_start_dt = '2014-11-01 00:00:00'\n",
    "test_start_dt = '2014-12-30 00:00:00'\n",
    "train = ts_data_load.copy() [(ts_data_load.index >= train_start_dt) & (ts_data_load.index < test_start_dt)][['load']]\n",
    "test = ts_data_load.copy()[ts_data_load.index >= test_start_dt][['load']]"
   ],
   "metadata": {
    "collapsed": false,
    "ExecuteTime": {
     "end_time": "2024-01-06T22:04:16.801123600Z",
     "start_time": "2024-01-06T22:04:16.771483700Z"
    }
   },
   "id": "bee0c6128e3eab82"
  },
  {
   "cell_type": "code",
   "execution_count": 7,
   "outputs": [
    {
     "name": "stdout",
     "output_type": "stream",
     "text": [
      "Train data shape:  (1416, 1)\n",
      "Test data shape:  (48, 1)\n"
     ]
    }
   ],
   "source": [
    "print('Train data shape: ', train.shape)\n",
    "print('Test data shape: ', test.shape)"
   ],
   "metadata": {
    "collapsed": false,
    "ExecuteTime": {
     "end_time": "2024-01-06T22:04:25.617793800Z",
     "start_time": "2024-01-06T22:04:25.567923Z"
    }
   },
   "id": "6aafbdf66badd242"
  },
  {
   "cell_type": "markdown",
   "source": [
    "___\n",
    "\n",
    "# Sanitization"
   ],
   "metadata": {
    "collapsed": false
   },
   "id": "badcb8db7419276"
  },
  {
   "cell_type": "code",
   "execution_count": 8,
   "outputs": [
    {
     "data": {
      "text/plain": "                         load\n2014-12-30 00:00:00  0.329454\n2014-12-30 01:00:00  0.290063\n2014-12-30 02:00:00  0.273948\n2014-12-30 03:00:00  0.268129\n2014-12-30 04:00:00  0.302596",
      "text/html": "<div>\n<style scoped>\n    .dataframe tbody tr th:only-of-type {\n        vertical-align: middle;\n    }\n\n    .dataframe tbody tr th {\n        vertical-align: top;\n    }\n\n    .dataframe thead th {\n        text-align: right;\n    }\n</style>\n<table border=\"1\" class=\"dataframe\">\n  <thead>\n    <tr style=\"text-align: right;\">\n      <th></th>\n      <th>load</th>\n    </tr>\n  </thead>\n  <tbody>\n    <tr>\n      <th>2014-12-30 00:00:00</th>\n      <td>0.329454</td>\n    </tr>\n    <tr>\n      <th>2014-12-30 01:00:00</th>\n      <td>0.290063</td>\n    </tr>\n    <tr>\n      <th>2014-12-30 02:00:00</th>\n      <td>0.273948</td>\n    </tr>\n    <tr>\n      <th>2014-12-30 03:00:00</th>\n      <td>0.268129</td>\n    </tr>\n    <tr>\n      <th>2014-12-30 04:00:00</th>\n      <td>0.302596</td>\n    </tr>\n  </tbody>\n</table>\n</div>"
     },
     "execution_count": 8,
     "metadata": {},
     "output_type": "execute_result"
    }
   ],
   "source": [
    "# Scale train data to be in range (0, 1)\n",
    "scaler = MinMaxScaler()\n",
    "train['load'] = scaler.fit_transform(train)\n",
    "train.head()\n",
    "# Scale test data to be in range (0, 1)\n",
    "test['load'] = scaler.transform(test)\n",
    "test.head()"
   ],
   "metadata": {
    "collapsed": false,
    "ExecuteTime": {
     "end_time": "2024-01-06T22:07:26.089490800Z",
     "start_time": "2024-01-06T22:07:26.043699300Z"
    }
   },
   "id": "c211c6c1882554e8"
  },
  {
   "cell_type": "markdown",
   "source": [
    "--- \n",
    "# Specify the number of steps to forecast ahead"
   ],
   "metadata": {
    "collapsed": false
   },
   "id": "1cf3f4d8b4cda627"
  },
  {
   "cell_type": "code",
   "execution_count": 10,
   "outputs": [
    {
     "name": "stdout",
     "output_type": "stream",
     "text": [
      "Forecasting horizon: 3 hours\n"
     ]
    }
   ],
   "source": [
    "HORIZON = 3\n",
    "print('Forecasting horizon:', HORIZON, 'hours')"
   ],
   "metadata": {
    "collapsed": false,
    "ExecuteTime": {
     "end_time": "2024-01-06T22:10:23.799468Z",
     "start_time": "2024-01-06T22:10:23.754749600Z"
    }
   },
   "id": "30c0d81c806f110f"
  },
  {
   "cell_type": "code",
   "execution_count": 11,
   "outputs": [],
   "source": [
    "# Define the order and seasonal order for the SARIMAX model"
   ],
   "metadata": {
    "collapsed": false,
    "ExecuteTime": {
     "end_time": "2024-01-06T22:10:43.685695400Z",
     "start_time": "2024-01-06T22:10:43.645760900Z"
    }
   },
   "id": "8565e5114d3daed0"
  },
  {
   "cell_type": "code",
   "execution_count": 12,
   "outputs": [],
   "source": [
    "order = (4, 1, 0)\n",
    "seasonal_order = (1, 1, 0, 24)"
   ],
   "metadata": {
    "collapsed": false,
    "ExecuteTime": {
     "end_time": "2024-01-06T22:10:52.250876900Z",
     "start_time": "2024-01-06T22:10:52.206083200Z"
    }
   },
   "id": "9d96e1562af6fd4e"
  },
  {
   "cell_type": "code",
   "execution_count": 13,
   "outputs": [
    {
     "name": "stdout",
     "output_type": "stream",
     "text": [
      "                                     SARIMAX Results                                      \n",
      "==========================================================================================\n",
      "Dep. Variable:                               load   No. Observations:                 1416\n",
      "Model:             SARIMAX(4, 1, 0)x(1, 1, 0, 24)   Log Likelihood                3477.226\n",
      "Date:                            Sun, 07 Jan 2024   AIC                          -6942.451\n",
      "Time:                                    03:12:11   BIC                          -6911.025\n",
      "Sample:                                11-01-2014   HQIC                         -6930.700\n",
      "                                     - 12-29-2014                                         \n",
      "Covariance Type:                              opg                                         \n",
      "==============================================================================\n",
      "                 coef    std err          z      P>|z|      [0.025      0.975]\n",
      "------------------------------------------------------------------------------\n",
      "ar.L1          0.8392      0.016     52.417      0.000       0.808       0.871\n",
      "ar.L2         -0.5184      0.034    -15.334      0.000      -0.585      -0.452\n",
      "ar.L3          0.1525      0.044      3.440      0.001       0.066       0.239\n",
      "ar.L4         -0.0770      0.036     -2.135      0.033      -0.148      -0.006\n",
      "ar.S.L24      -0.2323      0.024     -9.699      0.000      -0.279      -0.185\n",
      "sigma2         0.0004   8.32e-06     47.365      0.000       0.000       0.000\n",
      "===================================================================================\n",
      "Ljung-Box (L1) (Q):                   0.03   Jarque-Bera (JB):              1470.93\n",
      "Prob(Q):                              0.86   Prob(JB):                         0.00\n",
      "Heteroskedasticity (H):               0.84   Skew:                             0.14\n",
      "Prob(H) (two-sided):                  0.07   Kurtosis:                         8.03\n",
      "===================================================================================\n",
      "\n",
      "Warnings:\n",
      "[1] Covariance matrix calculated using the outer product of gradients (complex-step).\n"
     ]
    }
   ],
   "source": [
    "# Build and fit the SARIMAX model\n",
    "model = SARIMAX(endog=train, order=order, seasonal_order=seasonal_order)\n",
    "results = model.fit()\n",
    "print(results.summary())"
   ],
   "metadata": {
    "collapsed": false,
    "ExecuteTime": {
     "end_time": "2024-01-06T22:12:11.354940500Z",
     "start_time": "2024-01-06T22:12:06.015372800Z"
    }
   },
   "id": "496ba1ec2127de34"
  },
  {
   "cell_type": "code",
   "execution_count": 14,
   "outputs": [],
   "source": [
    "# Create a test data point for each HORIZON step\n",
    "test_shifted = test.copy()\n",
    "for t in range(1, HORIZON):\n",
    "    test_shifted['load+'+str(t)] = test_shifted['load'].shift(-t, freq='H')\n",
    "\n",
    "test_shifted = test_shifted.dropna(how='any')"
   ],
   "metadata": {
    "collapsed": false,
    "ExecuteTime": {
     "end_time": "2024-01-06T22:21:31.891381800Z",
     "start_time": "2024-01-06T22:21:31.842950Z"
    }
   },
   "id": "ea01cca14ca1f847"
  },
  {
   "cell_type": "code",
   "execution_count": 15,
   "outputs": [
    {
     "data": {
      "text/plain": "                         load    load+1    load+2\n2014-12-30 00:00:00  0.329454  0.290063  0.273948\n2014-12-30 01:00:00  0.290063  0.273948  0.268129\n2014-12-30 02:00:00  0.273948  0.268129  0.302596\n2014-12-30 03:00:00  0.268129  0.302596  0.408236\n2014-12-30 04:00:00  0.302596  0.408236  0.568935\n2014-12-30 05:00:00  0.408236  0.568935  0.679946\n2014-12-30 06:00:00  0.568935  0.679946  0.730976\n2014-12-30 07:00:00  0.679946  0.730976  0.751119\n2014-12-30 08:00:00  0.730976  0.751119  0.763653\n2014-12-30 09:00:00  0.751119  0.763653  0.738138\n2014-12-30 10:00:00  0.763653  0.738138  0.718890\n2014-12-30 11:00:00  0.738138  0.718890  0.709042\n2014-12-30 12:00:00  0.718890  0.709042  0.708147\n2014-12-30 13:00:00  0.709042  0.708147  0.738585\n2014-12-30 14:00:00  0.708147  0.738585  0.847807\n2014-12-30 15:00:00  0.738585  0.847807  0.951656\n2014-12-30 16:00:00  0.847807  0.951656  0.934199\n2014-12-30 17:00:00  0.951656  0.934199  0.887645\n2014-12-30 18:00:00  0.934199  0.887645  0.829454\n2014-12-30 19:00:00  0.887645  0.829454  0.719785\n2014-12-30 20:00:00  0.829454  0.719785  0.574754\n2014-12-30 21:00:00  0.719785  0.574754  0.459266\n2014-12-30 22:00:00  0.574754  0.459266  0.385855\n2014-12-30 23:00:00  0.459266  0.385855  0.343778\n2014-12-31 00:00:00  0.385855  0.343778  0.325425\n2014-12-31 01:00:00  0.343778  0.325425  0.330349\n2014-12-31 02:00:00  0.325425  0.330349  0.370636\n2014-12-31 03:00:00  0.330349  0.370636  0.470009\n2014-12-31 04:00:00  0.370636  0.470009  0.614593\n2014-12-31 05:00:00  0.470009  0.614593  0.724709\n2014-12-31 06:00:00  0.614593  0.724709  0.786034\n2014-12-31 07:00:00  0.724709  0.786034  0.801253\n2014-12-31 08:00:00  0.786034  0.801253  0.799463\n2014-12-31 09:00:00  0.801253  0.799463  0.780215\n2014-12-31 10:00:00  0.799463  0.780215  0.758729\n2014-12-31 11:00:00  0.780215  0.758729  0.736795\n2014-12-31 12:00:00  0.758729  0.736795  0.718890\n2014-12-31 13:00:00  0.736795  0.718890  0.727395\n2014-12-31 14:00:00  0.718890  0.727395  0.829902\n2014-12-31 15:00:00  0.727395  0.829902  0.909579\n2014-12-31 16:00:00  0.829902  0.909579  0.855864\n2014-12-31 17:00:00  0.909579  0.855864  0.772158\n2014-12-31 18:00:00  0.855864  0.772158  0.702328\n2014-12-31 19:00:00  0.772158  0.702328  0.619517\n2014-12-31 20:00:00  0.702328  0.619517  0.542525\n2014-12-31 21:00:00  0.619517  0.542525  0.473590",
      "text/html": "<div>\n<style scoped>\n    .dataframe tbody tr th:only-of-type {\n        vertical-align: middle;\n    }\n\n    .dataframe tbody tr th {\n        vertical-align: top;\n    }\n\n    .dataframe thead th {\n        text-align: right;\n    }\n</style>\n<table border=\"1\" class=\"dataframe\">\n  <thead>\n    <tr style=\"text-align: right;\">\n      <th></th>\n      <th>load</th>\n      <th>load+1</th>\n      <th>load+2</th>\n    </tr>\n  </thead>\n  <tbody>\n    <tr>\n      <th>2014-12-30 00:00:00</th>\n      <td>0.329454</td>\n      <td>0.290063</td>\n      <td>0.273948</td>\n    </tr>\n    <tr>\n      <th>2014-12-30 01:00:00</th>\n      <td>0.290063</td>\n      <td>0.273948</td>\n      <td>0.268129</td>\n    </tr>\n    <tr>\n      <th>2014-12-30 02:00:00</th>\n      <td>0.273948</td>\n      <td>0.268129</td>\n      <td>0.302596</td>\n    </tr>\n    <tr>\n      <th>2014-12-30 03:00:00</th>\n      <td>0.268129</td>\n      <td>0.302596</td>\n      <td>0.408236</td>\n    </tr>\n    <tr>\n      <th>2014-12-30 04:00:00</th>\n      <td>0.302596</td>\n      <td>0.408236</td>\n      <td>0.568935</td>\n    </tr>\n    <tr>\n      <th>2014-12-30 05:00:00</th>\n      <td>0.408236</td>\n      <td>0.568935</td>\n      <td>0.679946</td>\n    </tr>\n    <tr>\n      <th>2014-12-30 06:00:00</th>\n      <td>0.568935</td>\n      <td>0.679946</td>\n      <td>0.730976</td>\n    </tr>\n    <tr>\n      <th>2014-12-30 07:00:00</th>\n      <td>0.679946</td>\n      <td>0.730976</td>\n      <td>0.751119</td>\n    </tr>\n    <tr>\n      <th>2014-12-30 08:00:00</th>\n      <td>0.730976</td>\n      <td>0.751119</td>\n      <td>0.763653</td>\n    </tr>\n    <tr>\n      <th>2014-12-30 09:00:00</th>\n      <td>0.751119</td>\n      <td>0.763653</td>\n      <td>0.738138</td>\n    </tr>\n    <tr>\n      <th>2014-12-30 10:00:00</th>\n      <td>0.763653</td>\n      <td>0.738138</td>\n      <td>0.718890</td>\n    </tr>\n    <tr>\n      <th>2014-12-30 11:00:00</th>\n      <td>0.738138</td>\n      <td>0.718890</td>\n      <td>0.709042</td>\n    </tr>\n    <tr>\n      <th>2014-12-30 12:00:00</th>\n      <td>0.718890</td>\n      <td>0.709042</td>\n      <td>0.708147</td>\n    </tr>\n    <tr>\n      <th>2014-12-30 13:00:00</th>\n      <td>0.709042</td>\n      <td>0.708147</td>\n      <td>0.738585</td>\n    </tr>\n    <tr>\n      <th>2014-12-30 14:00:00</th>\n      <td>0.708147</td>\n      <td>0.738585</td>\n      <td>0.847807</td>\n    </tr>\n    <tr>\n      <th>2014-12-30 15:00:00</th>\n      <td>0.738585</td>\n      <td>0.847807</td>\n      <td>0.951656</td>\n    </tr>\n    <tr>\n      <th>2014-12-30 16:00:00</th>\n      <td>0.847807</td>\n      <td>0.951656</td>\n      <td>0.934199</td>\n    </tr>\n    <tr>\n      <th>2014-12-30 17:00:00</th>\n      <td>0.951656</td>\n      <td>0.934199</td>\n      <td>0.887645</td>\n    </tr>\n    <tr>\n      <th>2014-12-30 18:00:00</th>\n      <td>0.934199</td>\n      <td>0.887645</td>\n      <td>0.829454</td>\n    </tr>\n    <tr>\n      <th>2014-12-30 19:00:00</th>\n      <td>0.887645</td>\n      <td>0.829454</td>\n      <td>0.719785</td>\n    </tr>\n    <tr>\n      <th>2014-12-30 20:00:00</th>\n      <td>0.829454</td>\n      <td>0.719785</td>\n      <td>0.574754</td>\n    </tr>\n    <tr>\n      <th>2014-12-30 21:00:00</th>\n      <td>0.719785</td>\n      <td>0.574754</td>\n      <td>0.459266</td>\n    </tr>\n    <tr>\n      <th>2014-12-30 22:00:00</th>\n      <td>0.574754</td>\n      <td>0.459266</td>\n      <td>0.385855</td>\n    </tr>\n    <tr>\n      <th>2014-12-30 23:00:00</th>\n      <td>0.459266</td>\n      <td>0.385855</td>\n      <td>0.343778</td>\n    </tr>\n    <tr>\n      <th>2014-12-31 00:00:00</th>\n      <td>0.385855</td>\n      <td>0.343778</td>\n      <td>0.325425</td>\n    </tr>\n    <tr>\n      <th>2014-12-31 01:00:00</th>\n      <td>0.343778</td>\n      <td>0.325425</td>\n      <td>0.330349</td>\n    </tr>\n    <tr>\n      <th>2014-12-31 02:00:00</th>\n      <td>0.325425</td>\n      <td>0.330349</td>\n      <td>0.370636</td>\n    </tr>\n    <tr>\n      <th>2014-12-31 03:00:00</th>\n      <td>0.330349</td>\n      <td>0.370636</td>\n      <td>0.470009</td>\n    </tr>\n    <tr>\n      <th>2014-12-31 04:00:00</th>\n      <td>0.370636</td>\n      <td>0.470009</td>\n      <td>0.614593</td>\n    </tr>\n    <tr>\n      <th>2014-12-31 05:00:00</th>\n      <td>0.470009</td>\n      <td>0.614593</td>\n      <td>0.724709</td>\n    </tr>\n    <tr>\n      <th>2014-12-31 06:00:00</th>\n      <td>0.614593</td>\n      <td>0.724709</td>\n      <td>0.786034</td>\n    </tr>\n    <tr>\n      <th>2014-12-31 07:00:00</th>\n      <td>0.724709</td>\n      <td>0.786034</td>\n      <td>0.801253</td>\n    </tr>\n    <tr>\n      <th>2014-12-31 08:00:00</th>\n      <td>0.786034</td>\n      <td>0.801253</td>\n      <td>0.799463</td>\n    </tr>\n    <tr>\n      <th>2014-12-31 09:00:00</th>\n      <td>0.801253</td>\n      <td>0.799463</td>\n      <td>0.780215</td>\n    </tr>\n    <tr>\n      <th>2014-12-31 10:00:00</th>\n      <td>0.799463</td>\n      <td>0.780215</td>\n      <td>0.758729</td>\n    </tr>\n    <tr>\n      <th>2014-12-31 11:00:00</th>\n      <td>0.780215</td>\n      <td>0.758729</td>\n      <td>0.736795</td>\n    </tr>\n    <tr>\n      <th>2014-12-31 12:00:00</th>\n      <td>0.758729</td>\n      <td>0.736795</td>\n      <td>0.718890</td>\n    </tr>\n    <tr>\n      <th>2014-12-31 13:00:00</th>\n      <td>0.736795</td>\n      <td>0.718890</td>\n      <td>0.727395</td>\n    </tr>\n    <tr>\n      <th>2014-12-31 14:00:00</th>\n      <td>0.718890</td>\n      <td>0.727395</td>\n      <td>0.829902</td>\n    </tr>\n    <tr>\n      <th>2014-12-31 15:00:00</th>\n      <td>0.727395</td>\n      <td>0.829902</td>\n      <td>0.909579</td>\n    </tr>\n    <tr>\n      <th>2014-12-31 16:00:00</th>\n      <td>0.829902</td>\n      <td>0.909579</td>\n      <td>0.855864</td>\n    </tr>\n    <tr>\n      <th>2014-12-31 17:00:00</th>\n      <td>0.909579</td>\n      <td>0.855864</td>\n      <td>0.772158</td>\n    </tr>\n    <tr>\n      <th>2014-12-31 18:00:00</th>\n      <td>0.855864</td>\n      <td>0.772158</td>\n      <td>0.702328</td>\n    </tr>\n    <tr>\n      <th>2014-12-31 19:00:00</th>\n      <td>0.772158</td>\n      <td>0.702328</td>\n      <td>0.619517</td>\n    </tr>\n    <tr>\n      <th>2014-12-31 20:00:00</th>\n      <td>0.702328</td>\n      <td>0.619517</td>\n      <td>0.542525</td>\n    </tr>\n    <tr>\n      <th>2014-12-31 21:00:00</th>\n      <td>0.619517</td>\n      <td>0.542525</td>\n      <td>0.473590</td>\n    </tr>\n  </tbody>\n</table>\n</div>"
     },
     "execution_count": 15,
     "metadata": {},
     "output_type": "execute_result"
    }
   ],
   "source": [
    "test_shifted"
   ],
   "metadata": {
    "collapsed": false,
    "ExecuteTime": {
     "end_time": "2024-01-06T22:21:39.660866700Z",
     "start_time": "2024-01-06T22:21:39.617036600Z"
    }
   },
   "id": "f90895bf36828502"
  },
  {
   "cell_type": "code",
   "execution_count": 17,
   "outputs": [
    {
     "name": "stdout",
     "output_type": "stream",
     "text": [
      "2014-12-30 00:00:00\n",
      "1 : predicted = [0.32323448 0.28797267 0.27872803] expected = [0.32945389435989236, 0.2900626678603402, 0.2739480752014323]\n",
      "2014-12-30 01:00:00\n",
      "2 : predicted = [0.29926113 0.29130843 0.30229186] expected = [0.2900626678603402, 0.2739480752014323, 0.26812891674127126]\n",
      "2014-12-30 02:00:00\n",
      "3 : predicted = [0.27449932 0.2834967  0.32317733] expected = [0.2739480752014323, 0.26812891674127126, 0.3025962399283795]\n",
      "2014-12-30 03:00:00\n",
      "4 : predicted = [0.28240227 0.3217418  0.41662755] expected = [0.26812891674127126, 0.3025962399283795, 0.40823634735899716]\n"
     ]
    },
    {
     "name": "stderr",
     "output_type": "stream",
     "text": [
      "C:\\Users\\nishaalnaseer\\Documents\\pythonWork\\time-series\\analysis\\venv\\Lib\\site-packages\\statsmodels\\base\\model.py:607: ConvergenceWarning: Maximum Likelihood optimization failed to converge. Check mle_retvals\n",
      "  warnings.warn(\"Maximum Likelihood optimization failed to \"\n"
     ]
    },
    {
     "name": "stdout",
     "output_type": "stream",
     "text": [
      "2014-12-30 04:00:00\n",
      "5 : predicted = [0.29544108 0.38698565 0.54017801] expected = [0.3025962399283795, 0.40823634735899716, 0.5689346463742166]\n",
      "2014-12-30 05:00:00\n",
      "6 : predicted = [0.40003586 0.55452886 0.66473958] expected = [0.40823634735899716, 0.5689346463742166, 0.6799462846911368]\n",
      "2014-12-30 06:00:00\n",
      "7 : predicted = [0.56931517 0.68132591 0.75044255] expected = [0.5689346463742166, 0.6799462846911368, 0.7309758281110115]\n",
      "2014-12-30 07:00:00\n",
      "8 : predicted = [0.68084917 0.75026719 0.79931067] expected = [0.6799462846911368, 0.7309758281110115, 0.7511190689346463]\n",
      "2014-12-30 08:00:00\n",
      "9 : predicted = [0.74849754 0.79720209 0.81744496] expected = [0.7309758281110115, 0.7511190689346463, 0.7636526410026856]\n"
     ]
    },
    {
     "name": "stderr",
     "output_type": "stream",
     "text": [
      "C:\\Users\\nishaalnaseer\\Documents\\pythonWork\\time-series\\analysis\\venv\\Lib\\site-packages\\statsmodels\\base\\model.py:607: ConvergenceWarning: Maximum Likelihood optimization failed to converge. Check mle_retvals\n",
      "  warnings.warn(\"Maximum Likelihood optimization failed to \"\n"
     ]
    },
    {
     "name": "stdout",
     "output_type": "stream",
     "text": [
      "2014-12-30 09:00:00\n",
      "10 : predicted = [0.76510008 0.78103988 0.78317492] expected = [0.7511190689346463, 0.7636526410026856, 0.7381378692927483]\n"
     ]
    },
    {
     "name": "stderr",
     "output_type": "stream",
     "text": [
      "C:\\Users\\nishaalnaseer\\Documents\\pythonWork\\time-series\\analysis\\venv\\Lib\\site-packages\\statsmodels\\base\\model.py:607: ConvergenceWarning: Maximum Likelihood optimization failed to converge. Check mle_retvals\n",
      "  warnings.warn(\"Maximum Likelihood optimization failed to \"\n"
     ]
    },
    {
     "name": "stdout",
     "output_type": "stream",
     "text": [
      "2014-12-30 10:00:00\n",
      "11 : predicted = [0.7553958  0.75429973 0.73988932] expected = [0.7636526410026856, 0.7381378692927483, 0.7188898836168307]\n",
      "2014-12-30 11:00:00\n",
      "12 : predicted = [0.76920696 0.75647906 0.74929745] expected = [0.7381378692927483, 0.7188898836168307, 0.7090420769919425]\n"
     ]
    },
    {
     "name": "stderr",
     "output_type": "stream",
     "text": [
      "C:\\Users\\nishaalnaseer\\Documents\\pythonWork\\time-series\\analysis\\venv\\Lib\\site-packages\\statsmodels\\base\\model.py:607: ConvergenceWarning: Maximum Likelihood optimization failed to converge. Check mle_retvals\n",
      "  warnings.warn(\"Maximum Likelihood optimization failed to \"\n"
     ]
    },
    {
     "name": "stdout",
     "output_type": "stream",
     "text": [
      "2014-12-30 12:00:00\n",
      "13 : predicted = [0.69942366 0.68468319 0.69040315] expected = [0.7188898836168307, 0.7090420769919425, 0.7081468218442255]\n",
      "2014-12-30 13:00:00\n",
      "14 : predicted = [0.72039671 0.73083888 0.75596176] expected = [0.7090420769919425, 0.7081468218442255, 0.7385854968666068]\n",
      "2014-12-30 14:00:00\n",
      "15 : predicted = [0.70996348 0.73229093 0.85854382] expected = [0.7081468218442255, 0.7385854968666068, 0.8478066248880931]\n",
      "2014-12-30 15:00:00\n",
      "16 : predicted = [0.72899472 0.85484969 0.96631775] expected = [0.7385854968666068, 0.8478066248880931, 0.9516562220232765]\n",
      "2014-12-30 16:00:00\n",
      "17 : predicted = [0.87242456 0.98639015 0.96836027] expected = [0.8478066248880931, 0.9516562220232765, 0.934198746642793]\n",
      "2014-12-30 17:00:00\n",
      "18 : predicted = [0.9411492  0.91687462 0.86378108] expected = [0.9516562220232765, 0.934198746642793, 0.8876454789615038]\n",
      "2014-12-30 18:00:00\n",
      "19 : predicted = [0.93615971 0.88569306 0.82230308] expected = [0.934198746642793, 0.8876454789615038, 0.8294538943598924]\n"
     ]
    },
    {
     "name": "stderr",
     "output_type": "stream",
     "text": [
      "C:\\Users\\nishaalnaseer\\Documents\\pythonWork\\time-series\\analysis\\venv\\Lib\\site-packages\\statsmodels\\base\\model.py:607: ConvergenceWarning: Maximum Likelihood optimization failed to converge. Check mle_retvals\n",
      "  warnings.warn(\"Maximum Likelihood optimization failed to \"\n"
     ]
    },
    {
     "name": "stdout",
     "output_type": "stream",
     "text": [
      "2014-12-30 19:00:00\n",
      "20 : predicted = [0.88201014 0.81803106 0.70648532] expected = [0.8876454789615038, 0.8294538943598924, 0.7197851387645477]\n",
      "2014-12-30 20:00:00\n",
      "21 : predicted = [0.82842425 0.71829808 0.57822833] expected = [0.8294538943598924, 0.7197851387645477, 0.5747538048343777]\n",
      "2014-12-30 21:00:00\n",
      "22 : predicted = [0.72020829 0.58046954 0.46820394] expected = [0.7197851387645477, 0.5747538048343777, 0.4592658907788718]\n",
      "2014-12-30 22:00:00\n",
      "23 : predicted = [0.57970369 0.46734714 0.38600227] expected = [0.5747538048343777, 0.4592658907788718, 0.3858549686660697]\n",
      "2014-12-30 23:00:00\n",
      "24 : predicted = [0.45822673 0.37565782 0.33783289] expected = [0.4592658907788718, 0.3858549686660697, 0.34377797672336596]\n",
      "2014-12-31 00:00:00\n",
      "25 : predicted = [0.37754896 0.33994531 0.32625466] expected = [0.3858549686660697, 0.34377797672336596, 0.32542524619516544]\n",
      "2014-12-31 01:00:00\n",
      "26 : predicted = [0.35519888 0.34353755 0.34098302] expected = [0.34377797672336596, 0.32542524619516544, 0.33034914950760963]\n",
      "2014-12-31 02:00:00\n",
      "27 : predicted = [0.32256924 0.31722326 0.35407502] expected = [0.32542524619516544, 0.33034914950760963, 0.3706356311548791]\n",
      "2014-12-31 03:00:00\n",
      "28 : predicted = [0.32246067 0.36001991 0.46719097] expected = [0.33034914950760963, 0.3706356311548791, 0.470008952551477]\n",
      "2014-12-31 04:00:00\n",
      "29 : predicted = [0.37445163 0.48353493 0.64585469] expected = [0.3706356311548791, 0.470008952551477, 0.6145926589077886]\n",
      "2014-12-31 05:00:00\n",
      "30 : predicted = [0.47654223 0.6379263  0.74736268] expected = [0.470008952551477, 0.6145926589077886, 0.7247090420769919]\n"
     ]
    },
    {
     "name": "stderr",
     "output_type": "stream",
     "text": [
      "C:\\Users\\nishaalnaseer\\Documents\\pythonWork\\time-series\\analysis\\venv\\Lib\\site-packages\\statsmodels\\base\\model.py:607: ConvergenceWarning: Maximum Likelihood optimization failed to converge. Check mle_retvals\n",
      "  warnings.warn(\"Maximum Likelihood optimization failed to \"\n"
     ]
    },
    {
     "name": "stdout",
     "output_type": "stream",
     "text": [
      "2014-12-31 06:00:00\n",
      "31 : predicted = [0.6258175  0.73358771 0.7869518 ] expected = [0.6145926589077886, 0.7247090420769919, 0.786034019695613]\n",
      "2014-12-31 07:00:00\n",
      "32 : predicted = [0.71296407 0.76358696 0.7916839 ] expected = [0.7247090420769919, 0.786034019695613, 0.8012533572068039]\n"
     ]
    },
    {
     "name": "stderr",
     "output_type": "stream",
     "text": [
      "C:\\Users\\nishaalnaseer\\Documents\\pythonWork\\time-series\\analysis\\venv\\Lib\\site-packages\\statsmodels\\base\\model.py:607: ConvergenceWarning: Maximum Likelihood optimization failed to converge. Check mle_retvals\n",
      "  warnings.warn(\"Maximum Likelihood optimization failed to \"\n"
     ]
    },
    {
     "name": "stdout",
     "output_type": "stream",
     "text": [
      "2014-12-31 08:00:00\n",
      "33 : predicted = [0.78510517 0.81597403 0.83111054] expected = [0.786034019695613, 0.8012533572068039, 0.7994628469113696]\n",
      "2014-12-31 09:00:00\n",
      "34 : predicted = [0.81761421 0.83299109 0.81058757] expected = [0.8012533572068039, 0.7994628469113696, 0.780214861235452]\n",
      "2014-12-31 10:00:00\n",
      "35 : predicted = [0.80285383 0.77645504 0.75628776] expected = [0.7994628469113696, 0.780214861235452, 0.7587287376902416]\n",
      "2014-12-31 11:00:00\n",
      "36 : predicted = [0.77019234 0.74919319 0.74258019] expected = [0.780214861235452, 0.7587287376902416, 0.7367949865711727]\n",
      "2014-12-31 12:00:00\n",
      "37 : predicted = [0.76754932 0.76339668 0.76457003] expected = [0.7587287376902416, 0.7367949865711727, 0.7188898836168307]\n",
      "2014-12-31 13:00:00\n",
      "38 : predicted = [0.74719006 0.74621783 0.77528239] expected = [0.7367949865711727, 0.7188898836168307, 0.7273948075201431]\n",
      "2014-12-31 14:00:00\n",
      "39 : predicted = [0.72707958 0.75359712 0.86811124] expected = [0.7188898836168307, 0.7273948075201431, 0.8299015219337511]\n",
      "2014-12-31 15:00:00\n",
      "40 : predicted = [0.73852972 0.85113169 0.9623273 ] expected = [0.7273948075201431, 0.8299015219337511, 0.909579230080573]\n",
      "2014-12-31 16:00:00\n",
      "41 : predicted = [0.83049168 0.93873346 0.92745684] expected = [0.8299015219337511, 0.909579230080573, 0.855863921217547]\n",
      "2014-12-31 17:00:00\n",
      "42 : predicted = [0.93755193 0.92595476 0.88174367] expected = [0.909579230080573, 0.855863921217547, 0.7721575649059982]\n",
      "2014-12-31 18:00:00\n",
      "43 : predicted = [0.8745788 0.8235148 0.7694023] expected = [0.855863921217547, 0.7721575649059982, 0.7023276633840643]\n"
     ]
    },
    {
     "name": "stderr",
     "output_type": "stream",
     "text": [
      "C:\\Users\\nishaalnaseer\\Documents\\pythonWork\\time-series\\analysis\\venv\\Lib\\site-packages\\statsmodels\\base\\model.py:607: ConvergenceWarning: Maximum Likelihood optimization failed to converge. Check mle_retvals\n",
      "  warnings.warn(\"Maximum Likelihood optimization failed to \"\n"
     ]
    },
    {
     "name": "stdout",
     "output_type": "stream",
     "text": [
      "2014-12-31 19:00:00\n",
      "44 : predicted = [0.78909233 0.73038993 0.62943926] expected = [0.7721575649059982, 0.7023276633840643, 0.6195165622202325]\n",
      "2014-12-31 20:00:00\n",
      "45 : predicted = [0.69911683 0.5938633  0.4597674 ] expected = [0.7023276633840643, 0.6195165622202325, 0.5425246195165621]\n",
      "2014-12-31 21:00:00\n",
      "46 : predicted = [0.59942945 0.46565987 0.35597868] expected = [0.6195165622202325, 0.5425246195165621, 0.4735899731423454]\n",
      "CPU times: total: 25.7 s\n",
      "Wall time: 2min 29s\n"
     ]
    }
   ],
   "source": [
    "%%time\n",
    "# Make predictions on the test data\n",
    "training_window = 720\n",
    "train_ts = train['load']\n",
    "test_ts = test_shifted\n",
    "history = [x for x in train_ts]\n",
    "history = history[(-training_window):]\n",
    "predictions = list()\n",
    "# Let's user simpler model\n",
    "order = (2, 1, 0)\n",
    "seasonal_order = (1, 1, 0, 24)\n",
    "for t in range(test_ts.shape[0]):\n",
    "    model = SARIMAX(endog=history, order=order, seasonal_order=seasonal_order)\n",
    "    model_fit = model.fit()\n",
    "    yhat = model_fit.forecast(steps = HORIZON)\n",
    "    predictions.append(yhat)\n",
    "    obs = list(test_ts.iloc[t])\n",
    "    # move the training window\n",
    "    history.append(obs[0])\n",
    "    history.pop(0)\n",
    "    print(test_ts.index[t])\n",
    "    print(t+1, ': predicted =', yhat, 'expected =', obs)"
   ],
   "metadata": {
    "collapsed": false,
    "ExecuteTime": {
     "end_time": "2024-01-06T22:26:37.517249600Z",
     "start_time": "2024-01-06T22:24:07.724880200Z"
    }
   },
   "id": "a8852a66d6f9c8da"
  },
  {
   "cell_type": "code",
   "execution_count": 20,
   "outputs": [],
   "source": [
    "# Compare predictions to actual load\n",
    "eval_df = pd.DataFrame(predictions,\n",
    "                       columns=['t+'+str(t) for t in range(1, HORIZON+1)])\n",
    "eval_df['timestamp'] = test.index[0:len(test.index)-HORIZON+1]\n",
    "eval_df = pd.melt(\n",
    "    eval_df, id_vars='timestamp',\n",
    "    value_name='prediction', var_name='h'\n",
    ")\n",
    "eval_df['actual'] = np.array(np.transpose(test_ts)).ravel()\n",
    "eval_df[['prediction', 'actual']] = scaler.inverse_transform(eval_df[['prediction', 'actual']])"
   ],
   "metadata": {
    "collapsed": false,
    "ExecuteTime": {
     "end_time": "2024-01-06T22:27:33.301398400Z",
     "start_time": "2024-01-06T22:27:33.274843400Z"
    }
   },
   "id": "32543db243b767eb"
  },
  {
   "cell_type": "code",
   "execution_count": 21,
   "outputs": [
    {
     "name": "stdout",
     "output_type": "stream",
     "text": [
      "h\n",
      "t+1    0.005570\n",
      "t+2    0.012086\n",
      "t+3    0.016755\n",
      "Name: APE, dtype: float64\n"
     ]
    }
   ],
   "source": [
    "# Compute the mean absolute percentage error (MAPE)\n",
    "if(HORIZON > 1):\n",
    "    eval_df['APE'] = (eval_df['prediction'] -\n",
    "                      eval_df['actual']).abs() / eval_df['actual']\n",
    "    print(eval_df.groupby('h')['APE'].mean())"
   ],
   "metadata": {
    "collapsed": false,
    "ExecuteTime": {
     "end_time": "2024-01-06T22:27:58.547839600Z",
     "start_time": "2024-01-06T22:27:58.484337200Z"
    }
   },
   "id": "b0a34ba17ff10f29"
  },
  {
   "cell_type": "code",
   "execution_count": 23,
   "outputs": [
    {
     "name": "stdout",
     "output_type": "stream",
     "text": [
      "One-step forecast MAPE:  0.5570465121546399 %\n",
      "Multi-step forecast MAPE:  1.1470670530378426 %\n"
     ]
    }
   ],
   "source": [
    "# Print one-step forecast MAPE\n",
    "print(\n",
    "    \"One-step forecast MAPE: \",\n",
    "    (\n",
    "        mape(\n",
    "            eval_df[eval_df[\"h\"] == \"t+1\"][\"prediction\"],\n",
    "            eval_df[eval_df[\"h\"] == \"t+1\"][\"actual\"],\n",
    "        )\n",
    "    )\n",
    "    * 100,\n",
    "    \"%\",\n",
    ")\n",
    "print(\n",
    "    \"Multi-step forecast MAPE: \",\n",
    "    mape(eval_df[\"prediction\"], eval_df[\"actual\"]) * 100,\n",
    "    \"%\",\n",
    ")"
   ],
   "metadata": {
    "collapsed": false,
    "ExecuteTime": {
     "end_time": "2024-01-06T22:39:51.928535900Z",
     "start_time": "2024-01-06T22:39:51.883102300Z"
    }
   },
   "id": "fee75dc819628fcd"
  },
  {
   "cell_type": "code",
   "execution_count": null,
   "outputs": [],
   "source": [],
   "metadata": {
    "collapsed": false
   },
   "id": "6c88ed9b2d3c9eb4"
  }
 ],
 "metadata": {
  "kernelspec": {
   "display_name": "Python 3",
   "language": "python",
   "name": "python3"
  },
  "language_info": {
   "codemirror_mode": {
    "name": "ipython",
    "version": 2
   },
   "file_extension": ".py",
   "mimetype": "text/x-python",
   "name": "python",
   "nbconvert_exporter": "python",
   "pygments_lexer": "ipython2",
   "version": "2.7.6"
  }
 },
 "nbformat": 4,
 "nbformat_minor": 5
}
